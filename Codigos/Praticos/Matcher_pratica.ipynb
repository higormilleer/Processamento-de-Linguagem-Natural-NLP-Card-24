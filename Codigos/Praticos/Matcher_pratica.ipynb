{
 "cells": [
  {
   "cell_type": "code",
   "execution_count": 1,
   "id": "b33a696d-9114-48c9-8c51-f9405007c480",
   "metadata": {},
   "outputs": [],
   "source": [
    "import spacy\n",
    "from spacy.matcher import Matcher"
   ]
  },
  {
   "cell_type": "code",
   "execution_count": 2,
   "id": "0416c493-4524-4575-b8b1-b3faabe73625",
   "metadata": {},
   "outputs": [],
   "source": [
    "nlp = spacy.load(\"en_core_web_sm\")"
   ]
  },
  {
   "cell_type": "code",
   "execution_count": 3,
   "id": "e260951d-b2c2-4aaf-bb59-57c84472641a",
   "metadata": {},
   "outputs": [],
   "source": [
    "matcher = Matcher(nlp.vocab)\n",
    "pattern = [{\"LIKE_EMAIL\": True}] #extracai de tudo que se parece um email\n",
    "matcher.add(\"EMAIL_ADDRESS\", [pattern])"
   ]
  },
  {
   "cell_type": "code",
   "execution_count": 4,
   "id": "051ad113-3a22-4eae-ae3c-1fb04b6f7e52",
   "metadata": {},
   "outputs": [],
   "source": [
    "doc = nlp(\"This is an email address: higormiler55@gmail.com\")\n",
    "matches =  matcher(doc)"
   ]
  },
  {
   "cell_type": "code",
   "execution_count": 5,
   "id": "53cbf39c-01ef-424e-be10-97db4207df69",
   "metadata": {},
   "outputs": [
    {
     "name": "stdout",
     "output_type": "stream",
     "text": [
      "[(16571425990740197027, 6, 7)]\n"
     ]
    }
   ],
   "source": [
    "print(matches) #lexeme, token inicial e o token final"
   ]
  },
  {
   "cell_type": "code",
   "execution_count": 6,
   "id": "fc30f224-f994-426c-ba54-29a28d4fdff7",
   "metadata": {},
   "outputs": [
    {
     "name": "stdout",
     "output_type": "stream",
     "text": [
      "EMAIL_ADDRESS\n"
     ]
    }
   ],
   "source": [
    "print(nlp.vocab[matches[0][0]].text) #corresponde a um endereco de email"
   ]
  },
  {
   "cell_type": "code",
   "execution_count": 7,
   "id": "cfc5cb4e-e3ea-4f30-84d8-99384cbbc8db",
   "metadata": {},
   "outputs": [],
   "source": [
    "with open(\"wiki_mlk.txt\") as f:\n",
    "    text = f.read()"
   ]
  },
  {
   "cell_type": "code",
   "execution_count": 8,
   "id": "d959c141-5343-4ced-8e06-4daf90c24905",
   "metadata": {},
   "outputs": [
    {
     "name": "stdout",
     "output_type": "stream",
     "text": [
      "Martin Luther King Jr. (born Michael King Jr.; January 15, 1929 â€“ April 4, 1968) was an American Baptist minister and activist who became the most visible spokesman and leader in the American civil rights movement from 1955 until his assassination in 1968. King advanced civil rights through nonviolence and civil disobedience, inspired by his Christian beliefs and the nonviolent activism of Mahatma Gandhi. He was the son of early civil rights activist and minister Martin Luther King Sr.\n",
      "\n",
      "King participated in and led marches for blacks' right to vote, desegregation, labor rights, and other basic civil rights.[1] King led the 1955 Montgomery bus boycott and later became the first president of the Southern Christian Leadership Conference (SCLC). As president of the SCLC, he led the unsuccessful Albany Movement in Albany, Georgia, and helped organize some of the nonviolent 1963 protests in Birmingham, Alabama. King helped organize the 1963 March on Washington, where he delivered his famous \"I Have a Dream\" speech on the steps of the Lincoln Memorial.\n",
      "\n",
      "The SCLC put into practice the tactics of nonviolent protest with some success by strategically choosing the methods and places in which protests were carried out. There were several dramatic stand-offs with segregationist authorities, who sometimes turned violent.[2] Federal Bureau of Investigation (FBI) Director J. Edgar Hoover considered King a radical and made him an object of the FBI's COINTELPRO from 1963, forward. FBI agents investigated him for possible communist ties, recorded his extramarital affairs and reported on them to government officials, and, in 1964, mailed King a threatening anonymous letter, which he interpreted as an attempt to make him commit suicide.[3]\n",
      "\n",
      "On October 14, 1964, King won the Nobel Peace Prize for combating racial inequality through nonviolent resistance. In 1965, he helped organize two of the three Selma to Montgomery marches. In his final years, he expanded his focus to include opposition towards poverty, capitalism, and the Vietnam War.\n",
      "\n",
      "In 1968, King was planning a national occupation of Washington, D.C., to be called the Poor People's Campaign, when he was assassinated on April 4 in Memphis, Tennessee. His death was followed by riots in many U.S. cities. Allegations that James Earl Ray, the man convicted of killing King, had been framed or acted in concert with government agents persisted for decades after the shooting. King was posthumously awarded the Presidential Medal of Freedom in 1977 and the Congressional Gold Medal in 2003. Martin Luther King Jr. Day was established as a holiday in cities and states throughout the United States beginning in 1971; the holiday was enacted at the federal level by legislation signed by President Ronald Reagan in 1986. Hundreds of streets in the U.S. have been renamed in his honor, and the most populous county in Washington State was rededicated for him. The Martin Luther King Jr. Memorial on the National Mall in Washington, D.C., was dedicated in 2011.\n"
     ]
    }
   ],
   "source": [
    "print(text)"
   ]
  },
  {
   "cell_type": "code",
   "execution_count": 9,
   "id": "63a89d67-ff89-4f51-b3a3-ba080b4daab9",
   "metadata": {},
   "outputs": [],
   "source": [
    "nlp = spacy.load(\"en_core_web_sm\")"
   ]
  },
  {
   "cell_type": "code",
   "execution_count": 10,
   "id": "d81dfbe4-f65a-451d-87ac-7653ef178cc3",
   "metadata": {},
   "outputs": [
    {
     "name": "stdout",
     "output_type": "stream",
     "text": [
      "Total de padrões no matcher: 1\n",
      "Match: (451313080118390996, 0, 1), Texto correspondente: Martin\n",
      "Match: (451313080118390996, 1, 2), Texto correspondente: Luther\n",
      "Match: (451313080118390996, 2, 3), Texto correspondente: King\n",
      "Match: (451313080118390996, 3, 4), Texto correspondente: Jr.\n",
      "Match: (451313080118390996, 6, 7), Texto correspondente: Michael\n",
      "Match: (451313080118390996, 7, 8), Texto correspondente: King\n",
      "Match: (451313080118390996, 8, 9), Texto correspondente: Jr.\n",
      "Match: (451313080118390996, 10, 11), Texto correspondente: January\n",
      "Match: (451313080118390996, 16, 17), Texto correspondente: April\n",
      "Match: (451313080118390996, 50, 51), Texto correspondente: King\n"
     ]
    }
   ],
   "source": [
    "#deixei os textos melhores quando printado\n",
    "matcher = Matcher(nlp.vocab)\n",
    "pattern = [{\"POS\": \"PROPN\"}]  \n",
    "matcher.add(\"PROPER_NOUN\", [pattern])  \n",
    "\n",
    "doc = nlp(text)\n",
    "\n",
    "matches = matcher(doc)\n",
    "\n",
    "print(f\"Total de padrões no matcher: {len(matcher)}\")  \n",
    "\n",
    "for match in matches[:10]:\n",
    "    print(f\"Match: {match}, Texto correspondente: {doc[match[1]: match[2]]}\")  # Exibe o match e o texto correspondente no documento\n"
   ]
  },
  {
   "cell_type": "code",
   "execution_count": 11,
   "id": "45d77851-640a-4049-bcad-71d7ce147669",
   "metadata": {},
   "outputs": [
    {
     "name": "stdout",
     "output_type": "stream",
     "text": [
      "Total de padrões no matcher: 1\n",
      "Match ID: 451313080118390996, Texto correspondente: Martin\n",
      "Match ID: 451313080118390996, Texto correspondente: Martin Luther\n",
      "Match ID: 451313080118390996, Texto correspondente: Luther\n",
      "Match ID: 451313080118390996, Texto correspondente: Martin Luther King\n",
      "Match ID: 451313080118390996, Texto correspondente: Luther King\n",
      "Match ID: 451313080118390996, Texto correspondente: King\n",
      "Match ID: 451313080118390996, Texto correspondente: Martin Luther King Jr.\n",
      "Match ID: 451313080118390996, Texto correspondente: Luther King Jr.\n",
      "Match ID: 451313080118390996, Texto correspondente: King Jr.\n",
      "Match ID: 451313080118390996, Texto correspondente: Jr.\n"
     ]
    }
   ],
   "source": [
    "matcher = Matcher(nlp.vocab)\n",
    "pattern = [{\"POS\": \"PROPN\", \"OP\": \"+\"}]\n",
    "matcher.add(\"PROPER_NOUN\", [pattern])\n",
    "doc = nlp(text)\n",
    "matches = matcher(doc)\n",
    "print(f\"Total de padrões no matcher: {len(matcher)}\")\n",
    "for match in matches[:10]:\n",
    "    print(f\"Match ID: {match[0]}, Texto correspondente: {doc[match[1]:match[2]]}\")\n"
   ]
  },
  {
   "cell_type": "code",
   "execution_count": 12,
   "id": "3d79056d-1e52-4e37-b6a6-7c37b22036c4",
   "metadata": {},
   "outputs": [
    {
     "name": "stdout",
     "output_type": "stream",
     "text": [
      "0\n",
      "1\n",
      "(3232560085755078826, 0, 7) 'This is a test.'\n",
      "1\n",
      "(3232560085755078826, 0, 5) 'John speaks.'\n"
     ]
    }
   ],
   "source": [
    "matcher = Matcher(nlp.vocab)\n",
    "\n",
    "pattern1 = [{'ORTH': \"'\"}, {'IS_ALPHA': True, \"OP\": \"+\"}, {'IS_PUNCT': True, \"OP\": \"*\"}, {'ORTH': \"'\"}]\n",
    "pattern2 = [{'ORTH': \"'\"}, {'IS_ALPHA': True, \"OP\": \"+\"}, {'IS_PUNCT': True, \"OP\": \"*\"}, {'ORTH': \"'\"}]\n",
    "pattern3 = [{\"POS\": \"PROPN\", \"OP\": \"+\"}, {\"POS\": \"VERB\", \"LEMMA\": {\"IN\": [\"speak\", \"talk\"]}}, {'ORTH': \"'\"}]\n",
    "\n",
    "matcher.add(\"PROPER_NOUNS\", [pattern1, pattern2, pattern3], greedy='LONGEST')\n",
    "\n",
    "data = [\n",
    "    [\"Exemplo de texto\", \"Outro texto\", [\"'Hello, world!'\", \"'This is a test.'\", \"'John speaks.'\"]]\n",
    "]\n",
    "\n",
    "for text in data[0][2]:\n",
    "    text = text.replace('\"', \"'\")\n",
    "    doc = nlp(text)\n",
    "    matches = matcher(doc)\n",
    "    matches.sort(key=lambda x: x[1])\n",
    "    print(len(matches))\n",
    "    for match in matches[:10]:\n",
    "        print(match, doc[match[1]:match[2]])\n"
   ]
  },
  {
   "cell_type": "code",
   "execution_count": null,
   "id": "edcfb8dc-abb0-4e9e-b8e4-2a7c62cc3db7",
   "metadata": {},
   "outputs": [],
   "source": []
  }
 ],
 "metadata": {
  "kernelspec": {
   "display_name": "Python 3 (ipykernel)",
   "language": "python",
   "name": "python3"
  },
  "language_info": {
   "codemirror_mode": {
    "name": "ipython",
    "version": 3
   },
   "file_extension": ".py",
   "mimetype": "text/x-python",
   "name": "python",
   "nbconvert_exporter": "python",
   "pygments_lexer": "ipython3",
   "version": "3.12.4"
  }
 },
 "nbformat": 4,
 "nbformat_minor": 5
}
