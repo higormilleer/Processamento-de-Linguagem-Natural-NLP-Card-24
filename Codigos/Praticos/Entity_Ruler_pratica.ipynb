{
 "cells": [
  {
   "cell_type": "code",
   "execution_count": 1,
   "id": "26681b68-cd19-4617-8b4a-94febba0696e",
   "metadata": {},
   "outputs": [
    {
     "name": "stdout",
     "output_type": "stream",
     "text": [
      "Defaulting to user installation because normal site-packages is not writeable\n",
      "Collecting en-core-web-md==3.8.0\n",
      "  Downloading https://github.com/explosion/spacy-models/releases/download/en_core_web_md-3.8.0/en_core_web_md-3.8.0-py3-none-any.whl (33.5 MB)\n",
      "     ---------------------------------------- 0.0/33.5 MB ? eta -:--:--\n",
      "     --------------------------------------- 0.0/33.5 MB 640.0 kB/s eta 0:00:53\n",
      "     ---------------------------------------- 0.2/33.5 MB 2.8 MB/s eta 0:00:13\n",
      "      --------------------------------------- 0.5/33.5 MB 4.1 MB/s eta 0:00:09\n",
      "     - -------------------------------------- 0.9/33.5 MB 4.9 MB/s eta 0:00:07\n",
      "     - -------------------------------------- 1.2/33.5 MB 5.5 MB/s eta 0:00:06\n",
      "     - -------------------------------------- 1.6/33.5 MB 6.1 MB/s eta 0:00:06\n",
      "     -- ------------------------------------- 2.1/33.5 MB 6.7 MB/s eta 0:00:05\n",
      "     --- ------------------------------------ 2.7/33.5 MB 7.3 MB/s eta 0:00:05\n",
      "     --- ------------------------------------ 3.2/33.5 MB 7.9 MB/s eta 0:00:04\n",
      "     ---- ----------------------------------- 3.9/33.5 MB 8.5 MB/s eta 0:00:04\n",
      "     ----- ---------------------------------- 4.6/33.5 MB 9.2 MB/s eta 0:00:04\n",
      "     ------ --------------------------------- 5.4/33.5 MB 9.8 MB/s eta 0:00:03\n",
      "     ------- -------------------------------- 6.3/33.5 MB 10.6 MB/s eta 0:00:03\n",
      "     -------- ------------------------------- 7.3/33.5 MB 11.4 MB/s eta 0:00:03\n",
      "     ---------- ----------------------------- 8.4/33.5 MB 12.2 MB/s eta 0:00:03\n",
      "     ----------- ---------------------------- 9.6/33.5 MB 13.1 MB/s eta 0:00:02\n",
      "     ------------ -------------------------- 10.5/33.5 MB 15.2 MB/s eta 0:00:02\n",
      "     ------------ -------------------------- 10.5/33.5 MB 15.2 MB/s eta 0:00:02\n",
      "     ------------- ------------------------- 11.2/33.5 MB 14.9 MB/s eta 0:00:02\n",
      "     -------------- ------------------------ 12.8/33.5 MB 17.7 MB/s eta 0:00:02\n",
      "     ---------------- ---------------------- 14.5/33.5 MB 20.5 MB/s eta 0:00:01\n",
      "     ------------------- ------------------- 16.5/33.5 MB 24.2 MB/s eta 0:00:01\n",
      "     --------------------- ----------------- 18.6/33.5 MB 27.3 MB/s eta 0:00:01\n",
      "     ------------------------ -------------- 21.0/33.5 MB 40.9 MB/s eta 0:00:01\n",
      "     ------------------------ -------------- 21.0/33.5 MB 40.9 MB/s eta 0:00:01\n",
      "     ------------------------ -------------- 21.0/33.5 MB 40.9 MB/s eta 0:00:01\n",
      "     --------------------------- ----------- 23.3/33.5 MB 32.7 MB/s eta 0:00:01\n",
      "     ----------------------------- --------- 25.1/33.5 MB 32.7 MB/s eta 0:00:01\n",
      "     ------------------------------- ------- 27.0/33.5 MB 32.8 MB/s eta 0:00:01\n",
      "     --------------------------------- ----- 28.9/33.5 MB 32.8 MB/s eta 0:00:01\n",
      "     ------------------------------------ -- 30.9/33.5 MB 31.2 MB/s eta 0:00:01\n",
      "     ------------------------------------ -- 31.5/33.5 MB 43.5 MB/s eta 0:00:01\n",
      "     ------------------------------------ -- 31.6/33.5 MB 32.7 MB/s eta 0:00:01\n",
      "     --------------------------------------  33.5/33.5 MB 31.2 MB/s eta 0:00:01\n",
      "     --------------------------------------- 33.5/33.5 MB 28.5 MB/s eta 0:00:00\n",
      "\u001b[38;5;2m[+] Download and installation successful\u001b[0m\n",
      "You can now load the package via spacy.load('en_core_web_md')\n"
     ]
    }
   ],
   "source": [
    "import spacy\n",
    "!python -m spacy download en_core_web_md"
   ]
  },
  {
   "cell_type": "code",
   "execution_count": 2,
   "id": "859581bd-f4a9-4c06-b71a-875fee11809f",
   "metadata": {},
   "outputs": [],
   "source": [
    "nlp = spacy.load(\"en_core_web_md\") \n",
    "text = (\"West Chestertenfieldville was referenced in Mr. Deeds.\")"
   ]
  },
  {
   "cell_type": "code",
   "execution_count": 3,
   "id": "b5a11678-9e2a-4683-82b4-5f5a4343c1fd",
   "metadata": {},
   "outputs": [],
   "source": [
    "doc = nlp(text)"
   ]
  },
  {
   "cell_type": "code",
   "execution_count": 4,
   "id": "97b6898a-34a2-4825-b766-cc4d9b28f64e",
   "metadata": {},
   "outputs": [
    {
     "name": "stdout",
     "output_type": "stream",
     "text": [
      "West Chestertenfieldville 385\n",
      "Deeds 380\n"
     ]
    }
   ],
   "source": [
    " for ent in doc.ents:\n",
    "     print(ent.text, ent.label) #exibe o texto da entidade e o rotulo (tipo)"
   ]
  },
  {
   "cell_type": "code",
   "execution_count": 5,
   "id": "c85cdd8c-b6d5-4e2a-9393-9c6f7b7a1cad",
   "metadata": {},
   "outputs": [],
   "source": [
    "ruler = nlp.add_pipe(\"entity_ruler\") #colocar regra para enxugar mais o resultado"
   ]
  },
  {
   "cell_type": "code",
   "execution_count": 6,
   "id": "cc57e8e1-4005-446f-a67f-7415e14f8465",
   "metadata": {},
   "outputs": [
    {
     "data": {
      "text/plain": [
       "{'summary': {'tok2vec': {'assigns': ['doc.tensor'],\n",
       "   'requires': [],\n",
       "   'scores': [],\n",
       "   'retokenizes': False},\n",
       "  'tagger': {'assigns': ['token.tag'],\n",
       "   'requires': [],\n",
       "   'scores': ['tag_acc'],\n",
       "   'retokenizes': False},\n",
       "  'parser': {'assigns': ['token.dep',\n",
       "    'token.head',\n",
       "    'token.is_sent_start',\n",
       "    'doc.sents'],\n",
       "   'requires': [],\n",
       "   'scores': ['dep_uas',\n",
       "    'dep_las',\n",
       "    'dep_las_per_type',\n",
       "    'sents_p',\n",
       "    'sents_r',\n",
       "    'sents_f'],\n",
       "   'retokenizes': False},\n",
       "  'attribute_ruler': {'assigns': [],\n",
       "   'requires': [],\n",
       "   'scores': [],\n",
       "   'retokenizes': False},\n",
       "  'lemmatizer': {'assigns': ['token.lemma'],\n",
       "   'requires': [],\n",
       "   'scores': ['lemma_acc'],\n",
       "   'retokenizes': False},\n",
       "  'ner': {'assigns': ['doc.ents', 'token.ent_iob', 'token.ent_type'],\n",
       "   'requires': [],\n",
       "   'scores': ['ents_f', 'ents_p', 'ents_r', 'ents_per_type'],\n",
       "   'retokenizes': False},\n",
       "  'entity_ruler': {'assigns': ['doc.ents', 'token.ent_type', 'token.ent_iob'],\n",
       "   'requires': [],\n",
       "   'scores': ['ents_f', 'ents_p', 'ents_r', 'ents_per_type'],\n",
       "   'retokenizes': False}},\n",
       " 'problems': {'tok2vec': [],\n",
       "  'tagger': [],\n",
       "  'parser': [],\n",
       "  'attribute_ruler': [],\n",
       "  'lemmatizer': [],\n",
       "  'ner': [],\n",
       "  'entity_ruler': []},\n",
       " 'attrs': {'token.lemma': {'assigns': ['lemmatizer'], 'requires': []},\n",
       "  'doc.ents': {'assigns': ['ner', 'entity_ruler'], 'requires': []},\n",
       "  'token.ent_iob': {'assigns': ['ner', 'entity_ruler'], 'requires': []},\n",
       "  'token.dep': {'assigns': ['parser'], 'requires': []},\n",
       "  'token.is_sent_start': {'assigns': ['parser'], 'requires': []},\n",
       "  'token.tag': {'assigns': ['tagger'], 'requires': []},\n",
       "  'doc.tensor': {'assigns': ['tok2vec'], 'requires': []},\n",
       "  'token.ent_type': {'assigns': ['ner', 'entity_ruler'], 'requires': []},\n",
       "  'doc.sents': {'assigns': ['parser'], 'requires': []},\n",
       "  'token.head': {'assigns': ['parser'], 'requires': []}}}"
      ]
     },
     "execution_count": 6,
     "metadata": {},
     "output_type": "execute_result"
    }
   ],
   "source": [
    "nlp.analyze_pipes() #adcionado o entity_ruler"
   ]
  },
  {
   "cell_type": "code",
   "execution_count": 7,
   "id": "23f33599-a5f7-4861-a6e7-7a6a7c2927c8",
   "metadata": {},
   "outputs": [],
   "source": [
    "patterns = [ #padroes definidos \n",
    "    {\"label\": \"GPE\", \"pattern\": \"West Chestertenfieldville\"}\n",
    "]"
   ]
  },
  {
   "cell_type": "code",
   "execution_count": 8,
   "id": "91c9af54-9973-452f-9422-e42d9996b23d",
   "metadata": {},
   "outputs": [],
   "source": [
    "ruler.add_patterns(patterns)"
   ]
  },
  {
   "cell_type": "code",
   "execution_count": 9,
   "id": "a48b7588-92fd-4694-a553-d708e2069fc1",
   "metadata": {},
   "outputs": [
    {
     "name": "stdout",
     "output_type": "stream",
     "text": [
      "West Chestertenfieldville 385\n",
      "Deeds 380\n"
     ]
    }
   ],
   "source": [
    "doc2 = nlp(text)  #processa o texto usando o modelo  para criar o objeto que contém o texto analisado\n",
    "for ent in doc2.ents:  # itera sobre todas as entidades nomeadas no objeto doc2\n",
    "    print(ent.text, ent.label)  # exibe o texto da entidade (ent.text) e o rótulo da entidade (ent.label) \n"
   ]
  },
  {
   "cell_type": "code",
   "execution_count": 10,
   "id": "c75f43d6-546e-4912-8295-021b3d47eb53",
   "metadata": {},
   "outputs": [],
   "source": [
    "nlp2 = spacy.load(\"en_core_web_sm\")\n",
    "ruler = nlp2.add_pipe(\"entity_ruler\", before = \"ner\")# o modelo sera executado antes do modelo NER\n",
    "ruler.add_patterns(patterns)\n",
    "doc = nlp2(text)"
   ]
  },
  {
   "cell_type": "code",
   "execution_count": 11,
   "id": "2fe3890a-193a-417f-b3d3-e379f65a213e",
   "metadata": {},
   "outputs": [
    {
     "name": "stdout",
     "output_type": "stream",
     "text": [
      "West Chestertenfieldville 384\n",
      "Deeds 380\n"
     ]
    }
   ],
   "source": [
    "for ent in doc.ents:\n",
    "    print(ent.text, ent.label)"
   ]
  },
  {
   "cell_type": "code",
   "execution_count": 12,
   "id": "a82539a0-f311-4234-9231-b7e98d1d5e8c",
   "metadata": {},
   "outputs": [
    {
     "data": {
      "text/plain": [
       "{'summary': {'tok2vec': {'assigns': ['doc.tensor'],\n",
       "   'requires': [],\n",
       "   'scores': [],\n",
       "   'retokenizes': False},\n",
       "  'tagger': {'assigns': ['token.tag'],\n",
       "   'requires': [],\n",
       "   'scores': ['tag_acc'],\n",
       "   'retokenizes': False},\n",
       "  'parser': {'assigns': ['token.dep',\n",
       "    'token.head',\n",
       "    'token.is_sent_start',\n",
       "    'doc.sents'],\n",
       "   'requires': [],\n",
       "   'scores': ['dep_uas',\n",
       "    'dep_las',\n",
       "    'dep_las_per_type',\n",
       "    'sents_p',\n",
       "    'sents_r',\n",
       "    'sents_f'],\n",
       "   'retokenizes': False},\n",
       "  'attribute_ruler': {'assigns': [],\n",
       "   'requires': [],\n",
       "   'scores': [],\n",
       "   'retokenizes': False},\n",
       "  'lemmatizer': {'assigns': ['token.lemma'],\n",
       "   'requires': [],\n",
       "   'scores': ['lemma_acc'],\n",
       "   'retokenizes': False},\n",
       "  'entity_ruler': {'assigns': ['doc.ents', 'token.ent_type', 'token.ent_iob'],\n",
       "   'requires': [],\n",
       "   'scores': ['ents_f', 'ents_p', 'ents_r', 'ents_per_type'],\n",
       "   'retokenizes': False},\n",
       "  'ner': {'assigns': ['doc.ents', 'token.ent_iob', 'token.ent_type'],\n",
       "   'requires': [],\n",
       "   'scores': ['ents_f', 'ents_p', 'ents_r', 'ents_per_type'],\n",
       "   'retokenizes': False}},\n",
       " 'problems': {'tok2vec': [],\n",
       "  'tagger': [],\n",
       "  'parser': [],\n",
       "  'attribute_ruler': [],\n",
       "  'lemmatizer': [],\n",
       "  'entity_ruler': [],\n",
       "  'ner': []},\n",
       " 'attrs': {'token.lemma': {'assigns': ['lemmatizer'], 'requires': []},\n",
       "  'doc.ents': {'assigns': ['entity_ruler', 'ner'], 'requires': []},\n",
       "  'token.ent_iob': {'assigns': ['entity_ruler', 'ner'], 'requires': []},\n",
       "  'token.dep': {'assigns': ['parser'], 'requires': []},\n",
       "  'token.is_sent_start': {'assigns': ['parser'], 'requires': []},\n",
       "  'token.tag': {'assigns': ['tagger'], 'requires': []},\n",
       "  'doc.tensor': {'assigns': ['tok2vec'], 'requires': []},\n",
       "  'token.ent_type': {'assigns': ['entity_ruler', 'ner'], 'requires': []},\n",
       "  'doc.sents': {'assigns': ['parser'], 'requires': []},\n",
       "  'token.head': {'assigns': ['parser'], 'requires': []}}}"
      ]
     },
     "execution_count": 12,
     "metadata": {},
     "output_type": "execute_result"
    }
   ],
   "source": [
    "nlp2.analyze_pipes() # com o entity e o NER"
   ]
  },
  {
   "cell_type": "code",
   "execution_count": 13,
   "id": "eb13a1b9-9059-4781-85e4-bc80bba31d1d",
   "metadata": {},
   "outputs": [],
   "source": [
    "nlp3 = spacy.load(\"en_core_web_sm\")"
   ]
  },
  {
   "cell_type": "code",
   "execution_count": 14,
   "id": "4d48d250-2734-40cf-957a-aca86ad16d79",
   "metadata": {},
   "outputs": [],
   "source": [
    "nlp3 = spacy.load(\"en_core_web_sm\")\n",
    "ruler = nlp3.add_pipe(\"entity_ruler\", before = \"ner\")# o modelo sera executado antes do modelo NER\n",
    "patterns = [ #padroes definidos para identificar o nome GPE e o mr deeds como film\n",
    "    {\"label\": \"GPE\", \"pattern\": \"West Chestertenfieldville\"},\n",
    "    {\"label\": \"FILM\", \"pattern\": \"Mr. Deeds\"}\n",
    "]"
   ]
  },
  {
   "cell_type": "code",
   "execution_count": 16,
   "id": "ad8035a9-a8b3-4503-be99-42cef6a7b362",
   "metadata": {},
   "outputs": [],
   "source": [
    "ruler.add_patterns(patterns)\n",
    "doc = nlp3(text)"
   ]
  },
  {
   "cell_type": "code",
   "execution_count": 17,
   "id": "bf3a7aae-e17a-41d1-b39c-88358cc97bc4",
   "metadata": {},
   "outputs": [
    {
     "name": "stdout",
     "output_type": "stream",
     "text": [
      "West Chestertenfieldville 384\n",
      "Mr. Deeds 10630897232773734480\n"
     ]
    }
   ],
   "source": [
    "for ent in doc.ents:\n",
    "    print(ent.text, ent.label)"
   ]
  },
  {
   "cell_type": "code",
   "execution_count": null,
   "id": "a3d9e21f-5d63-4024-b2ff-b7a0497575fb",
   "metadata": {},
   "outputs": [],
   "source": []
  }
 ],
 "metadata": {
  "kernelspec": {
   "display_name": "Python 3 (ipykernel)",
   "language": "python",
   "name": "python3"
  },
  "language_info": {
   "codemirror_mode": {
    "name": "ipython",
    "version": 3
   },
   "file_extension": ".py",
   "mimetype": "text/x-python",
   "name": "python",
   "nbconvert_exporter": "python",
   "pygments_lexer": "ipython3",
   "version": "3.12.4"
  }
 },
 "nbformat": 4,
 "nbformat_minor": 5
}
