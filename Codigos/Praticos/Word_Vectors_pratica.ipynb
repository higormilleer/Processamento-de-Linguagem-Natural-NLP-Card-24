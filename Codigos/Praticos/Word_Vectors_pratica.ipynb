{
 "cells": [
  {
   "cell_type": "code",
   "execution_count": 1,
   "id": "00a944b6-0dd7-498b-8a56-6910675d5e99",
   "metadata": {},
   "outputs": [],
   "source": [
    "import spacy\n",
    "nlp = spacy.load(\"en_core_web_md\") "
   ]
  },
  {
   "cell_type": "code",
   "execution_count": 2,
   "id": "0233bdf8-a567-417a-96c9-d2445bbf1ab1",
   "metadata": {},
   "outputs": [],
   "source": [
    "with open(\"wiki_us.txt\") as f:\n",
    "    text = f.read()"
   ]
  },
  {
   "cell_type": "code",
   "execution_count": 3,
   "id": "bb05b7b2-c2ec-47a8-be50-59f9a54c8864",
   "metadata": {},
   "outputs": [
    {
     "name": "stdout",
     "output_type": "stream",
     "text": [
      "The United States of America (U.S.A. or USA), commonly known as the United States (U.S. or US) or America, is a country primarily located in North America.\n"
     ]
    }
   ],
   "source": [
    "doc = nlp(text)\n",
    "sentence1 = list(doc.sents)[0]\n",
    "print(sentence1)"
   ]
  },
  {
   "cell_type": "code",
   "execution_count": 4,
   "id": "25b364b1-5859-47e4-9b4a-d6288e58010c",
   "metadata": {},
   "outputs": [
    {
     "name": "stdout",
     "output_type": "stream",
     "text": [
      "['anti-poverty', 'SLUMS', 'inner-city', 'Socioeconomic', 'INTERSECT', 'Divides', 'handicaps', 'dropout', 'drop-out', 'Crime-Ridden']\n"
     ]
    }
   ],
   "source": [
    "# mudei ajustando o uso do metodo most_similar para pegar as palavras mais semelhantes\n",
    "\n",
    "import numpy as np  # importa a biblioteca numpy\n",
    "your_word = \"country\"  # define a palavra de entrada\n",
    "\n",
    "ms = nlp.vocab.vectors.most_similar(\n",
    "    np.asarray([nlp.vocab.vectors[nlp.vocab.strings[your_word]]]), n=10)  # encontra as palavras mais semelhantes\n",
    "words = [nlp.vocab.strings[w] for w in ms[0][0]]  # extrai as palavras mais semelhantes\n",
    "distances = ms[2]  # armazena as distâncias das palavras mais semelhantes\n",
    "print(words)  # imprime as palavras mais semelhantes\n"
   ]
  },
  {
   "cell_type": "code",
   "execution_count": 6,
   "id": "79af38a4-b082-4443-a37c-6628b1dae348",
   "metadata": {},
   "outputs": [
    {
     "name": "stdout",
     "output_type": "stream",
     "text": [
      "I enjoy pizza and ice cream. <-> Fast food tastes quite delicious. 0.6833040409472209\n"
     ]
    }
   ],
   "source": [
    "doc1 = nlp(\"I enjoy pizza and ice cream.\")  #processa a primeira frase\n",
    "doc2 = nlp(\"Fast food tastes quite delicious.\")  # processa a segunda frase \n",
    "print(doc1, \"<->\", doc2, doc1.similarity(doc2)) # Exibe as duas frases e calcula a similaridade entre elas"
   ]
  },
  {
   "cell_type": "code",
   "execution_count": 9,
   "id": "bd1c49a3-c968-460f-b049-f44b6aab1e43",
   "metadata": {},
   "outputs": [
    {
     "name": "stdout",
     "output_type": "stream",
     "text": [
      "I like pizza and ice cream. <-> The Cristiano Ronaldo is the best player. 0.5341202226114816\n"
     ]
    }
   ],
   "source": [
    "doc3 = nlp(\"The Cristiano Ronaldo is the best player.\") #processa a terceira frase\n",
    "print(doc1, \"<->\", doc3, doc1.similarity(doc3)) # Exibe as duas frases e calcula a similaridade entre elas"
   ]
  },
  {
   "cell_type": "code",
   "execution_count": 7,
   "id": "f8307030-bae0-4550-bf49-f1b68da739a4",
   "metadata": {},
   "outputs": [
    {
     "name": "stdout",
     "output_type": "stream",
     "text": [
      "I enjoy playing video games. <-> I enjoy playing soccer. 0.9445239041569998\n"
     ]
    }
   ],
   "source": [
    "doc4 = nlp(\"I enjoy playing video games.\")  # alterei \"like\" para \"enjoy\" na terceira frase\n",
    "doc5 = nlp(\"I enjoy playing soccer.\")  # alterei \"like\" para \"enjoy\" na quarta frase\n",
    "print(doc4.text, \"<->\", doc5.text, doc4.similarity(doc5)) # Exibe as duas frases e calcula a similaridade entre elas"
   ]
  },
  {
   "cell_type": "code",
   "execution_count": 8,
   "id": "ba06c698-37c2-419b-8759-cc13dcd282c3",
   "metadata": {},
   "outputs": [
    {
     "name": "stdout",
     "output_type": "stream",
     "text": [
      "I enjoy playing video games. <-> I like playing voleiball. 0.9400396159328778\n"
     ]
    }
   ],
   "source": [
    "doc6 = nlp(\"I like playing voleiball.\") #processa a terceira frase\n",
    "print(doc4, \"<->\", doc6, doc4.similarity(doc6)) # Exibe as duas frases e calcula a similaridade entre elas"
   ]
  },
  {
   "cell_type": "code",
   "execution_count": 9,
   "id": "893c0e8a-a61d-433a-9339-bbeb2d33f3bb",
   "metadata": {},
   "outputs": [
    {
     "name": "stdout",
     "output_type": "stream",
     "text": [
      "pizza and <-> cream 0.5454086065292358\n"
     ]
    }
   ],
   "source": [
    "french_fries = doc1[2:4]  # salty fries\n",
    "burgers = doc1[5]  # hamburgers\n",
    "# exibe os tokens e calcula a similaridade entre eles\n",
    "print(french_fries.text, \"<->\", burgers.text, french_fries.similarity(burgers))"
   ]
  },
  {
   "cell_type": "code",
   "execution_count": null,
   "id": "960c2196-94e9-45c9-b91a-520c9d9cce91",
   "metadata": {},
   "outputs": [],
   "source": []
  }
 ],
 "metadata": {
  "kernelspec": {
   "display_name": "Python 3 (ipykernel)",
   "language": "python",
   "name": "python3"
  },
  "language_info": {
   "codemirror_mode": {
    "name": "ipython",
    "version": 3
   },
   "file_extension": ".py",
   "mimetype": "text/x-python",
   "name": "python",
   "nbconvert_exporter": "python",
   "pygments_lexer": "ipython3",
   "version": "3.12.4"
  }
 },
 "nbformat": 4,
 "nbformat_minor": 5
}
