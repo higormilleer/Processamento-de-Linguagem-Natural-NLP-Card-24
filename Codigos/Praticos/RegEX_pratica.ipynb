{
 "cells": [
  {
   "cell_type": "code",
   "execution_count": 1,
   "id": "98434d31-8c66-49ef-bc41-856bbbd7ee31",
   "metadata": {},
   "outputs": [],
   "source": [
    "import spacy\n",
    "from spacy.tokens import Span\n",
    "import re"
   ]
  },
  {
   "cell_type": "code",
   "execution_count": 2,
   "id": "fc25024b-3f5c-4bfd-a782-dd0698d4513a",
   "metadata": {},
   "outputs": [],
   "source": [
    "text = \"Higor Miller was an Student, but Higor Grassi is a British TV Host. The name Higor is quite commun\""
   ]
  },
  {
   "cell_type": "code",
   "execution_count": 3,
   "id": "4b8e09e6-e0e7-4f61-aa49-8ec13751b75e",
   "metadata": {},
   "outputs": [],
   "source": [
    "pattern = r\"Higor [A-Z]\\w+\" #encontrar qualquer instancia de Paul neste caso uma letra maiscula ate a palavra real"
   ]
  },
  {
   "cell_type": "code",
   "execution_count": 4,
   "id": "bc8216ea-544d-4c2c-a6cb-5029853077ef",
   "metadata": {},
   "outputs": [
    {
     "name": "stdout",
     "output_type": "stream",
     "text": [
      "<re.Match object; span=(0, 12), match='Higor Miller'>\n",
      "<re.Match object; span=(33, 45), match='Higor Grassi'>\n"
     ]
    }
   ],
   "source": [
    "matches = re.finditer(pattern, text) #encontrar o padrao neste texto\n",
    "for match in matches:\n",
    "    print(match)"
   ]
  },
  {
   "cell_type": "code",
   "execution_count": 5,
   "id": "f8b5eb4b-a291-4ea5-846b-511d86bc3c92",
   "metadata": {},
   "outputs": [
    {
     "name": "stdout",
     "output_type": "stream",
     "text": [
      "Higor Miller 380\n",
      "Higor Grassi 380\n"
     ]
    }
   ],
   "source": [
    "nlp = spacy.blank(\"en\")\n",
    "doc = nlp(text)\n",
    "original_ents = list(doc.ents)\n",
    "mwt_ents = [] #lista que sera preenchida pelas entidades\n",
    "for match in re.finditer(pattern, doc.text): #itera sobre as correspondencias do regex\n",
    "    start, end = match.span() #posicao inicial e final do texto\n",
    "    span = doc.char_span(start, end) #define o span\n",
    "    if span is not None:\n",
    "        mwt_ents.append((span.start, span.end, span.text)) #comeco meio e fim do proprio texto\n",
    "for ent in mwt_ents:\n",
    "    start, end, name = ent #comeco, fim e nome\n",
    "    per_ent = Span(doc,start, end, label = \"PERSON\" ) #criamos o objeto span, onde podemos injetar na lista com o rotulo person\n",
    "    original_ents.append(per_ent)\n",
    "doc.ents = original_ents # atualizar as entidades do Doc\n",
    "for ent in doc.ents: #exibir entidades conhecidas\n",
    "    print(ent.text, ent.label)"
   ]
  },
  {
   "cell_type": "code",
   "execution_count": 6,
   "id": "22211047-ab25-48ae-980f-f9cb426783b3",
   "metadata": {},
   "outputs": [
    {
     "name": "stdout",
     "output_type": "stream",
     "text": [
      "[(0, 2, 'Higor Miller'), (7, 9, 'Higor Grassi')]\n"
     ]
    }
   ],
   "source": [
    "print(mwt_ents) #esta neste intervalo de palavras os respectivos nomes"
   ]
  },
  {
   "cell_type": "code",
   "execution_count": 7,
   "id": "72b636fa-d6ae-4ca9-a043-3e9dca3f88f7",
   "metadata": {},
   "outputs": [],
   "source": [
    "from spacy.language import Language\n",
    "@Language.component(\"paul_ner\")\n",
    "def paul_ner(doc):\n",
    "    pattern = r\"Paul [A-Z]\\w+\" #encontrar qualquer instancia de Paul neste caso uma letra maiscula ate a palavra real\n",
    "    original_ents = list(doc.ents)\n",
    "    mwt_ents = [] #lista que sera preenchida pelas entidades\n",
    "    for match in re.finditer(pattern, doc.text): #itera sobre as correspondencias do regex\n",
    "        start, end = match.span() #posicao inicial e final do texto\n",
    "        span = doc.char_span(start, end) #define o span\n",
    "        if span is not None:\n",
    "            mwt_ents.append((span.start, span.end, span.text)) #comeco meio e fim do proprio texto\n",
    "    for ent in mwt_ents:\n",
    "        start, end, name = ent #comeco, fim e nome\n",
    "        per_ent = Span(doc,start, end, label = \"PERSON\" ) #criamos o objeto span, onde podemos injetar na lista com o rotulo person\n",
    "        original_ents.append(per_ent)\n",
    "    doc.ents = original_ents # atualizar as entidades do Doc\n",
    "    return(doc)\n"
   ]
  },
  {
   "cell_type": "code",
   "execution_count": 8,
   "id": "2d3b8710-ffd3-4e0e-931a-e36d3390a34a",
   "metadata": {},
   "outputs": [
    {
     "data": {
      "text/plain": [
       "<function __main__.paul_ner(doc)>"
      ]
     },
     "execution_count": 8,
     "metadata": {},
     "output_type": "execute_result"
    }
   ],
   "source": [
    "nlp2 = spacy.blank(\"en\")\n",
    "nlp2.add_pipe(\"paul_ner\")"
   ]
  },
  {
   "cell_type": "code",
   "execution_count": 9,
   "id": "4410369f-e31c-4f0b-b127-1e282c77a572",
   "metadata": {},
   "outputs": [
    {
     "name": "stdout",
     "output_type": "stream",
     "text": [
      "Higor Miller was an Student, but Higor Grassi is a British TV Host. The name Higor is quite commun\n"
     ]
    }
   ],
   "source": [
    "doc2 = nlp2(text)\n",
    "print(doc2)"
   ]
  },
  {
   "cell_type": "code",
   "execution_count": 10,
   "id": "b9d781e5-15ad-43d3-9fb6-45a00ccff524",
   "metadata": {},
   "outputs": [],
   "source": [
    "import re\n",
    "import spacy\n",
    "from spacy.tokens import Span\n",
    "from spacy.language import Language\n",
    "from spacy.util import filter_spans  # importar a funcao filter_spans\n",
    "\n",
    "# definir o componente personalizado\n",
    "@Language.component(\"cinema_ner\")\n",
    "def cinema_ner(doc):\n",
    "    pattern = r\"Hollywood\"  # padrao regex para encontrar \"Hollywood\"\n",
    "    original_ents = list(doc.ents)  # entidades originais do doc\n",
    "    mwt_ents = []  # lista para armazenar as novas entidades\n",
    "\n",
    "    # iterar sobre as correspondencias do regex\n",
    "    for match in re.finditer(pattern, doc.text):\n",
    "        start, end = match.span()  # posicao inicial e final da correspondencia\n",
    "        span = doc.char_span(start, end, label=\"CINEMA\")  # criar um span com o rotulo \"CINEMA\"\n",
    "        if span is not None:  # verificar se o span é valido\n",
    "            mwt_ents.append(span)  # adicionar à lista de novas entidades\n",
    "\n",
    "    # adicionar as novas entidades à lista de entidades originais\n",
    "    original_ents.extend(mwt_ents)\n",
    "\n",
    "    # filtrar spans sobrepostos e resolver conflitos\n",
    "    filtered_ents = filter_spans(original_ents)\n",
    "\n",
    "    # atualizar as entidades do doc\n",
    "    doc.ents = filtered_ents\n",
    "    return doc"
   ]
  },
  {
   "cell_type": "code",
   "execution_count": 11,
   "id": "46b85c62-9bd9-4e21-af72-443f5231ca6b",
   "metadata": {},
   "outputs": [
    {
     "data": {
      "text/plain": [
       "<function __main__.cinema_ner(doc)>"
      ]
     },
     "execution_count": 11,
     "metadata": {},
     "output_type": "execute_result"
    }
   ],
   "source": [
    "nlp3 = spacy.load(\"en_core_web_sm\")\n",
    "nlp3.add_pipe(\"cinema_ner\")"
   ]
  },
  {
   "cell_type": "code",
   "execution_count": 12,
   "id": "9471a398-f64e-439c-8a2b-9ebc1525476f",
   "metadata": {},
   "outputs": [
    {
     "name": "stdout",
     "output_type": "stream",
     "text": [
      "Higor Miller PERSON\n",
      "Student ORG\n",
      "Higor Grassi PERSON\n",
      "British NORP\n",
      "Higor PERSON\n"
     ]
    }
   ],
   "source": [
    "doc3 = nlp3(text)\n",
    "for ent in doc3.ents:\n",
    "    print(ent.text, ent.label_)"
   ]
  },
  {
   "cell_type": "code",
   "execution_count": null,
   "id": "8fcb7d80-3bd4-4611-846f-f20211711588",
   "metadata": {},
   "outputs": [],
   "source": []
  }
 ],
 "metadata": {
  "kernelspec": {
   "display_name": "Python 3 (ipykernel)",
   "language": "python",
   "name": "python3"
  },
  "language_info": {
   "codemirror_mode": {
    "name": "ipython",
    "version": 3
   },
   "file_extension": ".py",
   "mimetype": "text/x-python",
   "name": "python",
   "nbconvert_exporter": "python",
   "pygments_lexer": "ipython3",
   "version": "3.12.4"
  }
 },
 "nbformat": 4,
 "nbformat_minor": 5
}
