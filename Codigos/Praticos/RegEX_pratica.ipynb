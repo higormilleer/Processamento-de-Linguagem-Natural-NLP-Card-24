{
 "cells": [
  {
   "cell_type": "code",
   "execution_count": 1,
   "id": "98434d31-8c66-49ef-bc41-856bbbd7ee31",
   "metadata": {},
   "outputs": [],
   "source": [
    "import spacy\n",
    "from spacy.tokens import Span\n",
    "import re"
   ]
  },
  {
   "cell_type": "code",
   "execution_count": 12,
   "id": "fc25024b-3f5c-4bfd-a782-dd0698d4513a",
   "metadata": {},
   "outputs": [],
   "source": [
    "text = \"Carlos Souza was an Student, but Carlos Silva is a British TV Host. The name Carlos is quite commun\""
   ]
  },
  {
   "cell_type": "code",
   "execution_count": 16,
   "id": "4b8e09e6-e0e7-4f61-aa49-8ec13751b75e",
   "metadata": {},
   "outputs": [],
   "source": [
    "pattern = r\"Carlos [A-Z]\\w+\" #encontrar qualquer instancia de Paul neste caso uma letra maiscula ate a palavra real"
   ]
  },
  {
   "cell_type": "code",
   "execution_count": 17,
   "id": "bc8216ea-544d-4c2c-a6cb-5029853077ef",
   "metadata": {},
   "outputs": [
    {
     "name": "stdout",
     "output_type": "stream",
     "text": [
      "<re.Match object; span=(0, 12), match='Carlos Souza'>\n",
      "<re.Match object; span=(33, 45), match='Carlos Silva'>\n"
     ]
    }
   ],
   "source": [
    "matches = re.finditer(pattern, text) #encontrar o padrao neste texto\n",
    "for match in matches:\n",
    "    print(match)"
   ]
  },
  {
   "cell_type": "code",
   "execution_count": 18,
   "id": "f8b5eb4b-a291-4ea5-846b-511d86bc3c92",
   "metadata": {},
   "outputs": [
    {
     "name": "stdout",
     "output_type": "stream",
     "text": [
      "John PERSON\n",
      "Jane PERSON\n",
      "Mr. Smith PERSON\n"
     ]
    }
   ],
   "source": [
    "# Mudei esta parte do codigo, adicionando filtro para evitar insercao de entidades duplicadas\n",
    "\n",
    "# Inicializando o modelo em branco\n",
    "nlp = spacy.blank(\"en\")\n",
    "text = \"John and Jane went to the market. Mr. Smith was there too.\"\n",
    "\n",
    "# Definindo o padrão regex para identificar nomes\n",
    "pattern = r\"\\b(?:John|Jane|Mr. Smith)\\b\"\n",
    "\n",
    "# Processando o texto com o modelo\n",
    "doc = nlp(text)\n",
    "\n",
    "original_ents = list(doc.ents)  # lista original de entidades\n",
    "mwt_ents = []  # lista para armazenar as novas entidades encontradas\n",
    "\n",
    "# Iterando sobre as correspondências do regex\n",
    "for match in re.finditer(pattern, doc.text):\n",
    "    start, end = match.span()  # posição inicial e final do texto\n",
    "    span = doc.char_span(start, end)  # define o span\n",
    "    if span is not None:\n",
    "        # Evita a duplicação de entidades\n",
    "        if not any(ent.start == span.start and ent.end == span.end for ent in original_ents):\n",
    "            mwt_ents.append((span.start, span.end, span.text))  # adiciona à lista de entidades\n",
    "\n",
    "# Adicionando as novas entidades à lista original\n",
    "for ent in mwt_ents:\n",
    "    start, end, name = ent  # começo, fim e nome\n",
    "    per_ent = Span(doc, start, end, label=\"PERSON\")  # cria o objeto Span com o rótulo \"PERSON\"\n",
    "    original_ents.append(per_ent)\n",
    "\n",
    "# Atualizando as entidades do doc\n",
    "doc.ents = original_ents\n",
    "\n",
    "# Exibindo as entidades encontradas\n",
    "for ent in doc.ents:\n",
    "    print(ent.text, ent.label_)\n"
   ]
  },
  {
   "cell_type": "code",
   "execution_count": 19,
   "id": "22211047-ab25-48ae-980f-f9cb426783b3",
   "metadata": {},
   "outputs": [
    {
     "name": "stdout",
     "output_type": "stream",
     "text": [
      "[(0, 1, 'John'), (2, 3, 'Jane'), (8, 10, 'Mr. Smith')]\n"
     ]
    }
   ],
   "source": [
    "print(mwt_ents) #esta neste intervalo de palavras os respectivos nomes"
   ]
  },
  {
   "cell_type": "code",
   "execution_count": 20,
   "id": "72b636fa-d6ae-4ca9-a043-3e9dca3f88f7",
   "metadata": {},
   "outputs": [],
   "source": [
    "# adicionado filtro para evitar insercao de entidades duplicadas aqui tambem\n",
    "\n",
    "from spacy.language import Language\n",
    "\n",
    "@Language.component(\"paul_ner\")\n",
    "def paul_ner(doc):\n",
    "    pattern = r\"Paul [A-Z]\\w+\"  # Encontrar qualquer instância de \"Paul\" seguido de uma palavra com a primeira letra maiúscula\n",
    "    original_ents = list(doc.ents)\n",
    "    mwt_ents = []  # Lista que será preenchida pelas entidades encontradas\n",
    "    for match in re.finditer(pattern, doc.text):  # Itera sobre as correspondências do regex\n",
    "        start, end = match.span()  # Posição inicial e final do texto\n",
    "        span = doc.char_span(start, end)  # Define o span\n",
    "        if span is not None:\n",
    "            # Evita a duplicação de entidades\n",
    "            if not any(ent.start == span.start and ent.end == span.end for ent in original_ents):\n",
    "                mwt_ents.append((span.start, span.end, span.text))  # Adiciona à lista de entidades\n",
    "    for ent in mwt_ents:\n",
    "        start, end, name = ent  # Começo, fim e nome\n",
    "        per_ent = Span(doc, start, end, label=\"PERSON\")  # Cria o objeto Span com o rótulo \"PERSON\"\n",
    "        original_ents.append(per_ent)\n",
    "    doc.ents = original_ents  # Atualiza as entidades do doc\n",
    "    return doc\n"
   ]
  },
  {
   "cell_type": "code",
   "execution_count": 21,
   "id": "2d3b8710-ffd3-4e0e-931a-e36d3390a34a",
   "metadata": {},
   "outputs": [
    {
     "data": {
      "text/plain": [
       "<function __main__.paul_ner(doc)>"
      ]
     },
     "execution_count": 21,
     "metadata": {},
     "output_type": "execute_result"
    }
   ],
   "source": [
    "nlp2 = spacy.blank(\"en\")\n",
    "nlp2.add_pipe(\"paul_ner\")"
   ]
  },
  {
   "cell_type": "code",
   "execution_count": 22,
   "id": "4410369f-e31c-4f0b-b127-1e282c77a572",
   "metadata": {},
   "outputs": [
    {
     "name": "stdout",
     "output_type": "stream",
     "text": [
      "John and Jane went to the market. Mr. Smith was there too.\n"
     ]
    }
   ],
   "source": [
    "doc2 = nlp2(text)\n",
    "print(doc2)"
   ]
  },
  {
   "cell_type": "code",
   "execution_count": 26,
   "id": "b9d781e5-15ad-43d3-9fb6-45a00ccff524",
   "metadata": {},
   "outputs": [],
   "source": [
    "# mudei aqui tbm adicionnado filtro para evitar sobreposicao de spans com a funcao filter_spans\n",
    "\n",
    "from spacy.language import Language\n",
    "from spacy.util import filter_spans  # importar a funcao filter_spans\n",
    "\n",
    "# definir o componente personalizado\n",
    "@Language.component(\"cinema_ner\")\n",
    "def cinema_ner(doc):\n",
    "    pattern = r\"Hollywood\"  # padrao regex para encontrar \"Hollywood\"\n",
    "    original_ents = list(doc.ents)  # entidades originais do doc\n",
    "    mwt_ents = []  # lista para armazenar as novas entidades\n",
    "\n",
    "    # iterar sobre as correspondencias do regex\n",
    "    for match in re.finditer(pattern, doc.text):\n",
    "        start, end = match.span()  # posicao inicial e final da correspondencia\n",
    "        span = doc.char_span(start, end, label=\"CINEMA\")  # criar um span com o rotulo \"CINEMA\"\n",
    "        if span is not None:  # verificar se o span é valido\n",
    "            mwt_ents.append(span)  # adicionar à lista de novas entidades\n",
    "\n",
    "    # adicionar as novas entidades à lista de entidades originais\n",
    "    original_ents.extend(mwt_ents)\n",
    "\n",
    "    # filtrar spans sobrepostos e resolver conflitos\n",
    "    filtered_ents = filter_spans(original_ents)\n",
    "\n",
    "    # atualizar as entidades do doc\n",
    "    doc.ents = filtered_ents\n",
    "    return doc\n"
   ]
  },
  {
   "cell_type": "code",
   "execution_count": 27,
   "id": "46b85c62-9bd9-4e21-af72-443f5231ca6b",
   "metadata": {},
   "outputs": [
    {
     "data": {
      "text/plain": [
       "<function __main__.cinema_ner(doc)>"
      ]
     },
     "execution_count": 27,
     "metadata": {},
     "output_type": "execute_result"
    }
   ],
   "source": [
    "nlp3 = spacy.load(\"en_core_web_sm\")\n",
    "nlp3.add_pipe(\"cinema_ner\")"
   ]
  },
  {
   "cell_type": "code",
   "execution_count": 28,
   "id": "9471a398-f64e-439c-8a2b-9ebc1525476f",
   "metadata": {},
   "outputs": [
    {
     "name": "stdout",
     "output_type": "stream",
     "text": [
      "John PERSON\n",
      "Jane PERSON\n",
      "Smith PERSON\n"
     ]
    }
   ],
   "source": [
    "doc3 = nlp3(text)\n",
    "for ent in doc3.ents:\n",
    "    print(ent.text, ent.label_)"
   ]
  }
 ],
 "metadata": {
  "kernelspec": {
   "display_name": "Python 3 (ipykernel)",
   "language": "python",
   "name": "python3"
  },
  "language_info": {
   "codemirror_mode": {
    "name": "ipython",
    "version": 3
   },
   "file_extension": ".py",
   "mimetype": "text/x-python",
   "name": "python",
   "nbconvert_exporter": "python",
   "pygments_lexer": "ipython3",
   "version": "3.12.4"
  }
 },
 "nbformat": 4,
 "nbformat_minor": 5
}
