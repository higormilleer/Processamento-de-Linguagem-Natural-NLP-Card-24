{
 "cells": [
  {
   "cell_type": "code",
   "execution_count": 1,
   "id": "9d4079fb-f7ae-42d3-9e70-2d7c9dad0785",
   "metadata": {},
   "outputs": [],
   "source": [
    "import tensorflow as tf\n",
    "from tensorflow import keras\n",
    "from tensorflow.keras.preprocessing.text import Tokenizer"
   ]
  },
  {
   "cell_type": "code",
   "execution_count": 2,
   "id": "8b88dc45-376c-4c76-aef5-2dd4a54cf43b",
   "metadata": {},
   "outputs": [],
   "source": [
    "sentences = [\n",
    "    \"I love my PC\",\n",
    "    \"I love my family\",\n",
    "    \"You love my eyes!\"\n",
    "]"
   ]
  },
  {
   "cell_type": "code",
   "execution_count": 3,
   "id": "c8ccdd1e-4511-4632-b7f6-617b77400b4a",
   "metadata": {},
   "outputs": [
    {
     "name": "stdout",
     "output_type": "stream",
     "text": [
      "{'love': 1, 'my': 2, 'i': 3, 'pc': 4, 'family': 5, 'you': 6, 'eyes': 7}\n"
     ]
    }
   ],
   "source": [
    "tokenizer = Tokenizer(num_words = 100) \n",
    "tokenizer.fit_on_texts(sentences) #tokenizer percorre todo o texto, descobrindo as palavras mais frequentes\n",
    "word_index = tokenizer.word_index #frase completa\n",
    "print(word_index) #imprime o dicionario"
   ]
  },
  {
   "cell_type": "code",
   "execution_count": null,
   "id": "f532a396-1e93-4b26-b84b-6b16e5406bc4",
   "metadata": {},
   "outputs": [],
   "source": []
  }
 ],
 "metadata": {
  "kernelspec": {
   "display_name": "Python 3 (ipykernel)",
   "language": "python",
   "name": "python3"
  },
  "language_info": {
   "codemirror_mode": {
    "name": "ipython",
    "version": 3
   },
   "file_extension": ".py",
   "mimetype": "text/x-python",
   "name": "python",
   "nbconvert_exporter": "python",
   "pygments_lexer": "ipython3",
   "version": "3.12.4"
  }
 },
 "nbformat": 4,
 "nbformat_minor": 5
}
