{
 "cells": [
  {
   "cell_type": "code",
   "execution_count": 1,
   "id": "2feea73c-6c06-4468-a4b6-3e69c42c3cfa",
   "metadata": {},
   "outputs": [
    {
     "name": "stdout",
     "output_type": "stream",
     "text": [
      "Defaulting to user installation because normal site-packages is not writeable\n",
      "Collecting en-core-web-md==3.8.0\n",
      "  Downloading https://github.com/explosion/spacy-models/releases/download/en_core_web_md-3.8.0/en_core_web_md-3.8.0-py3-none-any.whl (33.5 MB)\n",
      "     ---------------------------------------- 0.0/33.5 MB ? eta -:--:--\n",
      "     --------------------------------------- 0.0/33.5 MB 667.8 kB/s eta 0:00:51\n",
      "     ---------------------------------------- 0.3/33.5 MB 3.3 MB/s eta 0:00:11\n",
      "      --------------------------------------- 0.8/33.5 MB 5.9 MB/s eta 0:00:06\n",
      "     - -------------------------------------- 1.4/33.5 MB 7.3 MB/s eta 0:00:05\n",
      "     -- ------------------------------------- 2.0/33.5 MB 8.6 MB/s eta 0:00:04\n",
      "     --- ------------------------------------ 2.7/33.5 MB 9.6 MB/s eta 0:00:04\n",
      "     ---- ----------------------------------- 3.5/33.5 MB 10.7 MB/s eta 0:00:03\n",
      "     ----- ---------------------------------- 4.4/33.5 MB 11.8 MB/s eta 0:00:03\n",
      "     ------ --------------------------------- 5.4/33.5 MB 12.9 MB/s eta 0:00:03\n",
      "     ------- -------------------------------- 6.6/33.5 MB 14.0 MB/s eta 0:00:02\n",
      "     --------- ------------------------------ 7.8/33.5 MB 15.2 MB/s eta 0:00:02\n",
      "     ---------- ----------------------------- 9.2/33.5 MB 16.3 MB/s eta 0:00:02\n",
      "     ------------ -------------------------- 10.7/33.5 MB 20.5 MB/s eta 0:00:02\n",
      "     -------------- ------------------------ 12.5/33.5 MB 25.2 MB/s eta 0:00:01\n",
      "     ---------------- ---------------------- 14.4/33.5 MB 31.2 MB/s eta 0:00:01\n",
      "     ------------------- ------------------- 16.7/33.5 MB 34.4 MB/s eta 0:00:01\n",
      "     ---------------------- ---------------- 19.2/33.5 MB 40.9 MB/s eta 0:00:01\n",
      "     ------------------------- ------------- 21.9/33.5 MB 46.9 MB/s eta 0:00:01\n",
      "     ----------------------------- --------- 25.1/33.5 MB 54.7 MB/s eta 0:00:01\n",
      "     --------------------------------- ----- 28.5/33.5 MB 65.6 MB/s eta 0:00:01\n",
      "     ----------------------------------- --- 30.8/33.5 MB 65.6 MB/s eta 0:00:01\n",
      "     --------------------------------------  33.5/33.5 MB 72.6 MB/s eta 0:00:01\n",
      "     --------------------------------------- 33.5/33.5 MB 54.7 MB/s eta 0:00:00\n",
      "\u001b[38;5;2m[+] Download and installation successful\u001b[0m\n",
      "You can now load the package via spacy.load('en_core_web_md')\n"
     ]
    }
   ],
   "source": [
    "import spacy\n",
    "!python -m spacy download en_core_web_md"
   ]
  },
  {
   "cell_type": "code",
   "execution_count": 9,
   "id": "719704c1-2c18-412e-af11-629c3244fc24",
   "metadata": {},
   "outputs": [],
   "source": [
    "nlp = spacy.load(\"en_core_web_md\") \n",
    "text = (\"West Chestertenfieldville was referenced in Mr. Deeds.\")"
   ]
  },
  {
   "cell_type": "code",
   "execution_count": 10,
   "id": "ac8482ba-8717-4260-9a57-63245e74a4c5",
   "metadata": {},
   "outputs": [],
   "source": [
    "doc = nlp(text)"
   ]
  },
  {
   "cell_type": "code",
   "execution_count": 11,
   "id": "d4b30a40-282d-40ad-bec1-4461396f8132",
   "metadata": {},
   "outputs": [
    {
     "name": "stdout",
     "output_type": "stream",
     "text": [
      "West Chestertenfieldville 385\n",
      "Deeds 380\n"
     ]
    }
   ],
   "source": [
    " for ent in doc.ents:\n",
    "     print(ent.text, ent.label) #exibe o texto da entidade e o rotulo (tipo)"
   ]
  },
  {
   "cell_type": "code",
   "execution_count": 12,
   "id": "02592054-aa4a-4913-b398-4f1fe40d26cb",
   "metadata": {},
   "outputs": [],
   "source": [
    "ruler = nlp.add_pipe(\"entity_ruler\") #colocar regra para enxugar mais o resultado"
   ]
  },
  {
   "cell_type": "code",
   "execution_count": 13,
   "id": "62ae2e1c-cb11-4f32-b90b-27c5d3c2fbbd",
   "metadata": {},
   "outputs": [
    {
     "data": {
      "text/plain": [
       "{'summary': {'tok2vec': {'assigns': ['doc.tensor'],\n",
       "   'requires': [],\n",
       "   'scores': [],\n",
       "   'retokenizes': False},\n",
       "  'tagger': {'assigns': ['token.tag'],\n",
       "   'requires': [],\n",
       "   'scores': ['tag_acc'],\n",
       "   'retokenizes': False},\n",
       "  'parser': {'assigns': ['token.dep',\n",
       "    'token.head',\n",
       "    'token.is_sent_start',\n",
       "    'doc.sents'],\n",
       "   'requires': [],\n",
       "   'scores': ['dep_uas',\n",
       "    'dep_las',\n",
       "    'dep_las_per_type',\n",
       "    'sents_p',\n",
       "    'sents_r',\n",
       "    'sents_f'],\n",
       "   'retokenizes': False},\n",
       "  'attribute_ruler': {'assigns': [],\n",
       "   'requires': [],\n",
       "   'scores': [],\n",
       "   'retokenizes': False},\n",
       "  'lemmatizer': {'assigns': ['token.lemma'],\n",
       "   'requires': [],\n",
       "   'scores': ['lemma_acc'],\n",
       "   'retokenizes': False},\n",
       "  'ner': {'assigns': ['doc.ents', 'token.ent_iob', 'token.ent_type'],\n",
       "   'requires': [],\n",
       "   'scores': ['ents_f', 'ents_p', 'ents_r', 'ents_per_type'],\n",
       "   'retokenizes': False},\n",
       "  'entity_ruler': {'assigns': ['doc.ents', 'token.ent_type', 'token.ent_iob'],\n",
       "   'requires': [],\n",
       "   'scores': ['ents_f', 'ents_p', 'ents_r', 'ents_per_type'],\n",
       "   'retokenizes': False}},\n",
       " 'problems': {'tok2vec': [],\n",
       "  'tagger': [],\n",
       "  'parser': [],\n",
       "  'attribute_ruler': [],\n",
       "  'lemmatizer': [],\n",
       "  'ner': [],\n",
       "  'entity_ruler': []},\n",
       " 'attrs': {'token.dep': {'assigns': ['parser'], 'requires': []},\n",
       "  'token.is_sent_start': {'assigns': ['parser'], 'requires': []},\n",
       "  'token.ent_iob': {'assigns': ['ner', 'entity_ruler'], 'requires': []},\n",
       "  'token.tag': {'assigns': ['tagger'], 'requires': []},\n",
       "  'doc.sents': {'assigns': ['parser'], 'requires': []},\n",
       "  'token.lemma': {'assigns': ['lemmatizer'], 'requires': []},\n",
       "  'doc.tensor': {'assigns': ['tok2vec'], 'requires': []},\n",
       "  'token.ent_type': {'assigns': ['ner', 'entity_ruler'], 'requires': []},\n",
       "  'doc.ents': {'assigns': ['ner', 'entity_ruler'], 'requires': []},\n",
       "  'token.head': {'assigns': ['parser'], 'requires': []}}}"
      ]
     },
     "execution_count": 13,
     "metadata": {},
     "output_type": "execute_result"
    }
   ],
   "source": [
    "nlp.analyze_pipes() #adcionado o entity_ruler"
   ]
  },
  {
   "cell_type": "code",
   "execution_count": 18,
   "id": "f4c92c8b-2a7c-436f-a7cd-d0a4aa13786e",
   "metadata": {},
   "outputs": [],
   "source": [
    "patterns = [ #padroes definidos \n",
    "    {\"label\": \"GPE\", \"pattern\": \"West Chestertenfieldville\"}\n",
    "]"
   ]
  },
  {
   "cell_type": "code",
   "execution_count": 19,
   "id": "3060ef34-2431-4568-b0e3-fa15671fd396",
   "metadata": {},
   "outputs": [],
   "source": [
    "ruler.add_patterns(patterns)"
   ]
  },
  {
   "cell_type": "code",
   "execution_count": 20,
   "id": "2eb94404-4cc9-4568-b24b-4882d5859b90",
   "metadata": {},
   "outputs": [
    {
     "name": "stdout",
     "output_type": "stream",
     "text": [
      "West Chestertenfieldville 385\n",
      "Deeds 380\n"
     ]
    }
   ],
   "source": [
    "doc2 = nlp(text)  #processa o texto usando o modelo  para criar o objeto que contém o texto analisado\n",
    "for ent in doc2.ents:  # itera sobre todas as entidades nomeadas no objeto doc2\n",
    "    print(ent.text, ent.label)  # exibe o texto da entidade (ent.text) e o rótulo da entidade (ent.label) \n"
   ]
  },
  {
   "cell_type": "code",
   "execution_count": 28,
   "id": "0f3ab99c-6b76-4448-9ab7-6f23b1f84add",
   "metadata": {},
   "outputs": [],
   "source": [
    "nlp2 = spacy.load(\"en_core_web_sm\")"
   ]
  },
  {
   "cell_type": "code",
   "execution_count": 29,
   "id": "609f0700-f50e-4f7e-b65b-c3d7c656f04f",
   "metadata": {},
   "outputs": [],
   "source": [
    "ruler = nlp2.add_pipe(\"entity_ruler\", before = \"ner\")# o modelo sera executado antes do modelo NER"
   ]
  },
  {
   "cell_type": "code",
   "execution_count": 30,
   "id": "f1823025-7095-4a62-b0ca-9f3c93cb48b0",
   "metadata": {},
   "outputs": [],
   "source": [
    "ruler.add_patterns(patterns)"
   ]
  },
  {
   "cell_type": "code",
   "execution_count": 31,
   "id": "15ef7ee7-d4a3-496f-9c86-cb1e0847d8be",
   "metadata": {},
   "outputs": [],
   "source": [
    "doc = nlp2(text)"
   ]
  },
  {
   "cell_type": "code",
   "execution_count": 32,
   "id": "15ae252e-f0c6-4cbf-b011-6533f46d0073",
   "metadata": {},
   "outputs": [
    {
     "name": "stdout",
     "output_type": "stream",
     "text": [
      "West Chestertenfieldville 384\n",
      "Deeds 380\n"
     ]
    }
   ],
   "source": [
    "for ent in doc.ents:\n",
    "    print(ent.text, ent.label)"
   ]
  },
  {
   "cell_type": "code",
   "execution_count": 33,
   "id": "67232e0d-d4cf-423f-811a-620ac3914c2c",
   "metadata": {},
   "outputs": [
    {
     "data": {
      "text/plain": [
       "{'summary': {'tok2vec': {'assigns': ['doc.tensor'],\n",
       "   'requires': [],\n",
       "   'scores': [],\n",
       "   'retokenizes': False},\n",
       "  'tagger': {'assigns': ['token.tag'],\n",
       "   'requires': [],\n",
       "   'scores': ['tag_acc'],\n",
       "   'retokenizes': False},\n",
       "  'parser': {'assigns': ['token.dep',\n",
       "    'token.head',\n",
       "    'token.is_sent_start',\n",
       "    'doc.sents'],\n",
       "   'requires': [],\n",
       "   'scores': ['dep_uas',\n",
       "    'dep_las',\n",
       "    'dep_las_per_type',\n",
       "    'sents_p',\n",
       "    'sents_r',\n",
       "    'sents_f'],\n",
       "   'retokenizes': False},\n",
       "  'attribute_ruler': {'assigns': [],\n",
       "   'requires': [],\n",
       "   'scores': [],\n",
       "   'retokenizes': False},\n",
       "  'lemmatizer': {'assigns': ['token.lemma'],\n",
       "   'requires': [],\n",
       "   'scores': ['lemma_acc'],\n",
       "   'retokenizes': False},\n",
       "  'entity_ruler': {'assigns': ['doc.ents', 'token.ent_type', 'token.ent_iob'],\n",
       "   'requires': [],\n",
       "   'scores': ['ents_f', 'ents_p', 'ents_r', 'ents_per_type'],\n",
       "   'retokenizes': False},\n",
       "  'ner': {'assigns': ['doc.ents', 'token.ent_iob', 'token.ent_type'],\n",
       "   'requires': [],\n",
       "   'scores': ['ents_f', 'ents_p', 'ents_r', 'ents_per_type'],\n",
       "   'retokenizes': False}},\n",
       " 'problems': {'tok2vec': [],\n",
       "  'tagger': [],\n",
       "  'parser': [],\n",
       "  'attribute_ruler': [],\n",
       "  'lemmatizer': [],\n",
       "  'entity_ruler': [],\n",
       "  'ner': []},\n",
       " 'attrs': {'token.dep': {'assigns': ['parser'], 'requires': []},\n",
       "  'token.is_sent_start': {'assigns': ['parser'], 'requires': []},\n",
       "  'token.ent_iob': {'assigns': ['entity_ruler', 'ner'], 'requires': []},\n",
       "  'token.tag': {'assigns': ['tagger'], 'requires': []},\n",
       "  'doc.sents': {'assigns': ['parser'], 'requires': []},\n",
       "  'token.lemma': {'assigns': ['lemmatizer'], 'requires': []},\n",
       "  'doc.tensor': {'assigns': ['tok2vec'], 'requires': []},\n",
       "  'token.ent_type': {'assigns': ['entity_ruler', 'ner'], 'requires': []},\n",
       "  'doc.ents': {'assigns': ['entity_ruler', 'ner'], 'requires': []},\n",
       "  'token.head': {'assigns': ['parser'], 'requires': []}}}"
      ]
     },
     "execution_count": 33,
     "metadata": {},
     "output_type": "execute_result"
    }
   ],
   "source": [
    "nlp2.analyze_pipes() # com o entity e o NER"
   ]
  },
  {
   "cell_type": "code",
   "execution_count": 34,
   "id": "8f21b13a-a0d2-40ff-bb49-ab4128590458",
   "metadata": {},
   "outputs": [],
   "source": [
    "nlp3 = spacy.load(\"en_core_web_sm\")"
   ]
  },
  {
   "cell_type": "code",
   "execution_count": 35,
   "id": "1c741de2-e2d8-4c44-998a-67c9d23bd605",
   "metadata": {},
   "outputs": [],
   "source": [
    "ruler = nlp3.add_pipe(\"entity_ruler\", before = \"ner\")# o modelo sera executado antes do modelo NER"
   ]
  },
  {
   "cell_type": "code",
   "execution_count": 36,
   "id": "2d23cc49-d3d1-4626-9f62-22a6a6823caf",
   "metadata": {},
   "outputs": [],
   "source": [
    "patterns = [ #padroes definidos para identificar o nome GPE e o mr deeds como film\n",
    "    {\"label\": \"GPE\", \"pattern\": \"West Chestertenfieldville\"},\n",
    "    {\"label\": \"FILM\", \"pattern\": \"Mr. Deeds\"}\n",
    "]"
   ]
  },
  {
   "cell_type": "code",
   "execution_count": 37,
   "id": "3c689f8e-aa80-44eb-bde7-cd1b622a1fd3",
   "metadata": {},
   "outputs": [],
   "source": [
    "ruler.add_patterns(patterns)"
   ]
  },
  {
   "cell_type": "code",
   "execution_count": 38,
   "id": "3cc1ddbf-414f-4b6e-a1a6-3063133f8fe8",
   "metadata": {},
   "outputs": [],
   "source": [
    "doc = nlp3(text)"
   ]
  },
  {
   "cell_type": "code",
   "execution_count": 40,
   "id": "1637205a-51b2-431c-b0ce-d5d0924e8769",
   "metadata": {},
   "outputs": [
    {
     "name": "stdout",
     "output_type": "stream",
     "text": [
      "West Chestertenfieldville 384\n",
      "Mr. Deeds 10630897232773734480\n"
     ]
    }
   ],
   "source": [
    "for ent in doc.ents:\n",
    "    print(ent.text, ent.label)"
   ]
  },
  {
   "cell_type": "code",
   "execution_count": null,
   "id": "c9447898-1307-4971-afbb-ac5b8b126ecb",
   "metadata": {},
   "outputs": [],
   "source": [
    "toponym resolution\n",
    "Paris"
   ]
  }
 ],
 "metadata": {
  "kernelspec": {
   "display_name": "Python 3 (ipykernel)",
   "language": "python",
   "name": "python3"
  },
  "language_info": {
   "codemirror_mode": {
    "name": "ipython",
    "version": 3
   },
   "file_extension": ".py",
   "mimetype": "text/x-python",
   "name": "python",
   "nbconvert_exporter": "python",
   "pygments_lexer": "ipython3",
   "version": "3.12.4"
  }
 },
 "nbformat": 4,
 "nbformat_minor": 5
}
