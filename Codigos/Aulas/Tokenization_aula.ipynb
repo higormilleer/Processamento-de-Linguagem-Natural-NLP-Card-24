{
 "cells": [
  {
   "cell_type": "code",
   "execution_count": 2,
   "id": "0d6245b5-35a5-4d63-bb17-62dfee5c315a",
   "metadata": {},
   "outputs": [],
   "source": [
    "import tensorflow as tf\n",
    "from tensorflow import keras\n",
    "from tensorflow.keras.preprocessing.text import Tokenizer"
   ]
  },
  {
   "cell_type": "code",
   "execution_count": 11,
   "id": "11d1f1f0-87fc-4707-9d19-244976464850",
   "metadata": {},
   "outputs": [],
   "source": [
    "sentences = [\n",
    "    \"I love my dog\",\n",
    "    \"I love my cat\",\n",
    "    \"You love my dog!\"\n",
    "]"
   ]
  },
  {
   "cell_type": "code",
   "execution_count": 12,
   "id": "ea2fa844-c8f3-4901-af98-8ea31d5e3d1a",
   "metadata": {},
   "outputs": [
    {
     "name": "stdout",
     "output_type": "stream",
     "text": [
      "{'love': 1, 'my': 2, 'i': 3, 'dog': 4, 'cat': 5, 'you': 6}\n"
     ]
    }
   ],
   "source": [
    "tokenizer = Tokenizer(num_words = 100) \n",
    "tokenizer.fit_on_texts(sentences) #tokenizer percorre todo o texto, descobrindo as palavras mais frequentes\n",
    "word_index = tokenizer.word_index #frase completa\n",
    "print(word_index) #imprime o dicionario"
   ]
  },
  {
   "cell_type": "code",
   "execution_count": null,
   "id": "6cace64b-15bb-4728-9852-5a16b189d0ed",
   "metadata": {},
   "outputs": [],
   "source": []
  }
 ],
 "metadata": {
  "kernelspec": {
   "display_name": "Python 3 (ipykernel)",
   "language": "python",
   "name": "python3"
  },
  "language_info": {
   "codemirror_mode": {
    "name": "ipython",
    "version": 3
   },
   "file_extension": ".py",
   "mimetype": "text/x-python",
   "name": "python",
   "nbconvert_exporter": "python",
   "pygments_lexer": "ipython3",
   "version": "3.12.4"
  }
 },
 "nbformat": 4,
 "nbformat_minor": 5
}
