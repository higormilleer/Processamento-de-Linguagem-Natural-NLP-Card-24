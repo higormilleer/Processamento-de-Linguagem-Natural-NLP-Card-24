{
 "cells": [
  {
   "cell_type": "code",
   "execution_count": 2,
   "id": "1f9dd969-4e3c-4de2-bc2c-69fce044c1e2",
   "metadata": {},
   "outputs": [],
   "source": [
    "import spacy\n",
    "from spacy.matcher import Matcher"
   ]
  },
  {
   "cell_type": "code",
   "execution_count": 3,
   "id": "ec3ad5cb-485b-45d1-a4ad-f450c9c576ff",
   "metadata": {},
   "outputs": [],
   "source": [
    "nlp = spacy.load(\"en_core_web_sm\")"
   ]
  },
  {
   "cell_type": "code",
   "execution_count": 5,
   "id": "0bfd1605-9537-4124-a0b8-6cf4b65793d3",
   "metadata": {},
   "outputs": [],
   "source": [
    "matcher = Matcher(nlp.vocab)\n",
    "pattern = [{\"LIKE_EMAIL\": True}] #extracai de tudo que se parece um email\n",
    "matcher.add(\"EMAIL_ADDRESS\", [pattern])"
   ]
  },
  {
   "cell_type": "code",
   "execution_count": 6,
   "id": "c8fd02c4-0429-4609-ae7f-46a0a112ad94",
   "metadata": {},
   "outputs": [],
   "source": [
    "doc = nlp(\"This is an email address: higormiler55@gmail.com\")\n",
    "matches =  matcher(doc)"
   ]
  },
  {
   "cell_type": "code",
   "execution_count": 7,
   "id": "e5c80889-5830-4dc9-97a9-c51e6d1f698d",
   "metadata": {},
   "outputs": [
    {
     "name": "stdout",
     "output_type": "stream",
     "text": [
      "[(16571425990740197027, 6, 7)]\n"
     ]
    }
   ],
   "source": [
    "print(matches) #lexeme, token inicial e o token final"
   ]
  },
  {
   "cell_type": "code",
   "execution_count": 8,
   "id": "75f653ed-97e8-4e1e-97dd-85c2f1aa9243",
   "metadata": {},
   "outputs": [
    {
     "name": "stdout",
     "output_type": "stream",
     "text": [
      "EMAIL_ADDRESS\n"
     ]
    }
   ],
   "source": [
    "print(nlp.vocab[matches[0][0]].text) #corresponde a um endereco de email"
   ]
  },
  {
   "cell_type": "code",
   "execution_count": 9,
   "id": "3eddeaff-1e2f-4dca-9c2c-f665eac1c447",
   "metadata": {},
   "outputs": [],
   "source": [
    "with open(\"wiki_mlk.txt\") as f:\n",
    "    text = f.read()"
   ]
  },
  {
   "cell_type": "code",
   "execution_count": 10,
   "id": "322cc2aa-11b6-4b8b-bb28-40d3476c587c",
   "metadata": {},
   "outputs": [
    {
     "name": "stdout",
     "output_type": "stream",
     "text": [
      "Martin Luther King Jr. (born Michael King Jr.; January 15, 1929 â€“ April 4, 1968) was an American Baptist minister and activist who became the most visible spokesman and leader in the American civil rights movement from 1955 until his assassination in 1968. King advanced civil rights through nonviolence and civil disobedience, inspired by his Christian beliefs and the nonviolent activism of Mahatma Gandhi. He was the son of early civil rights activist and minister Martin Luther King Sr.\n",
      "\n",
      "King participated in and led marches for blacks' right to vote, desegregation, labor rights, and other basic civil rights.[1] King led the 1955 Montgomery bus boycott and later became the first president of the Southern Christian Leadership Conference (SCLC). As president of the SCLC, he led the unsuccessful Albany Movement in Albany, Georgia, and helped organize some of the nonviolent 1963 protests in Birmingham, Alabama. King helped organize the 1963 March on Washington, where he delivered his famous \"I Have a Dream\" speech on the steps of the Lincoln Memorial.\n",
      "\n",
      "The SCLC put into practice the tactics of nonviolent protest with some success by strategically choosing the methods and places in which protests were carried out. There were several dramatic stand-offs with segregationist authorities, who sometimes turned violent.[2] Federal Bureau of Investigation (FBI) Director J. Edgar Hoover considered King a radical and made him an object of the FBI's COINTELPRO from 1963, forward. FBI agents investigated him for possible communist ties, recorded his extramarital affairs and reported on them to government officials, and, in 1964, mailed King a threatening anonymous letter, which he interpreted as an attempt to make him commit suicide.[3]\n",
      "\n",
      "On October 14, 1964, King won the Nobel Peace Prize for combating racial inequality through nonviolent resistance. In 1965, he helped organize two of the three Selma to Montgomery marches. In his final years, he expanded his focus to include opposition towards poverty, capitalism, and the Vietnam War.\n",
      "\n",
      "In 1968, King was planning a national occupation of Washington, D.C., to be called the Poor People's Campaign, when he was assassinated on April 4 in Memphis, Tennessee. His death was followed by riots in many U.S. cities. Allegations that James Earl Ray, the man convicted of killing King, had been framed or acted in concert with government agents persisted for decades after the shooting. King was posthumously awarded the Presidential Medal of Freedom in 1977 and the Congressional Gold Medal in 2003. Martin Luther King Jr. Day was established as a holiday in cities and states throughout the United States beginning in 1971; the holiday was enacted at the federal level by legislation signed by President Ronald Reagan in 1986. Hundreds of streets in the U.S. have been renamed in his honor, and the most populous county in Washington State was rededicated for him. The Martin Luther King Jr. Memorial on the National Mall in Washington, D.C., was dedicated in 2011.\n"
     ]
    }
   ],
   "source": [
    "print(text)"
   ]
  },
  {
   "cell_type": "code",
   "execution_count": 11,
   "id": "9d905532-a17e-4139-9b86-5f730170ec32",
   "metadata": {},
   "outputs": [],
   "source": [
    "nlp = spacy.load(\"en_core_web_sm\")"
   ]
  },
  {
   "cell_type": "code",
   "execution_count": 12,
   "id": "2eeb2e2d-f559-4c76-98af-418d15530030",
   "metadata": {},
   "outputs": [
    {
     "name": "stdout",
     "output_type": "stream",
     "text": [
      "1\n",
      "(451313080118390996, 0, 1) Martin\n",
      "(451313080118390996, 1, 2) Luther\n",
      "(451313080118390996, 2, 3) King\n",
      "(451313080118390996, 3, 4) Jr.\n",
      "(451313080118390996, 6, 7) Michael\n",
      "(451313080118390996, 7, 8) King\n",
      "(451313080118390996, 8, 9) Jr.\n",
      "(451313080118390996, 10, 11) January\n",
      "(451313080118390996, 16, 17) April\n",
      "(451313080118390996, 50, 51) King\n"
     ]
    }
   ],
   "source": [
    "matcher = Matcher(nlp.vocab)  # cria uma instancia do Matcher usando o vocabulario do modelo nlp\n",
    "pattern = [{\"POS\":\"PROPN\"}]  # define um padrao para capturar substantivos proprios \n",
    "matcher.add(\"PROPER_NOUN\", [pattern])  # adiciona o padrão ao matcher para que ele reconheça substantivos proprios\n",
    "doc = nlp(text) \n",
    "matches = matcher(doc)  # aplica o matcher no documento doc, encontrando as ocorrencias que correspondem ao padrao\n",
    "print(len(matcher))  # exibe o número de padroes no matcher, neste caso o 1\n",
    "for match in matches[:10]:  # Itera sobre os primeiros 10 matches encontrados\n",
    "    print(match, doc[match[1]: match[2]])  # Exibe o match e o texto correspondente no documento (substantivo proprio)\n"
   ]
  },
  {
   "cell_type": "code",
   "execution_count": 13,
   "id": "a044b860-11ed-462b-b482-22b1f25d1674",
   "metadata": {},
   "outputs": [
    {
     "name": "stdout",
     "output_type": "stream",
     "text": [
      "1\n",
      "(451313080118390996, 0, 1) Martin\n",
      "(451313080118390996, 0, 2) Martin Luther\n",
      "(451313080118390996, 1, 2) Luther\n",
      "(451313080118390996, 0, 3) Martin Luther King\n",
      "(451313080118390996, 1, 3) Luther King\n",
      "(451313080118390996, 2, 3) King\n",
      "(451313080118390996, 0, 4) Martin Luther King Jr.\n",
      "(451313080118390996, 1, 4) Luther King Jr.\n",
      "(451313080118390996, 2, 4) King Jr.\n",
      "(451313080118390996, 3, 4) Jr.\n"
     ]
    }
   ],
   "source": [
    "matcher = Matcher(nlp.vocab)  # cria uma instancia do Matcher usando o vocabulario do modelo nlp\n",
    "pattern = [{\"POS\":\"PROPN\", \"OP\": \"+\"}]  # define um padrao para capturar substantivos proprios que aparecem uma ou mais vezes\n",
    "matcher.add(\"PROPER_NOUN\", [pattern])  # adiciona o padrão ao matcher para que ele reconheça substantivos proprios\n",
    "doc = nlp(text) \n",
    "matches = matcher(doc)  # aplica o matcher no documento doc, encontrando as ocorrencias que correspondem ao padrao\n",
    "print(len(matcher))  # exibe o número de padroes no matcher, neste caso o 1\n",
    "for match in matches[:10]:  # Itera sobre os primeiros 10 matches encontrados\n",
    "    print(match, doc[match[1]: match[2]])  # Exibe o match e o texto correspondente no documento (substantivo proprio)\n"
   ]
  },
  {
   "cell_type": "code",
   "execution_count": 14,
   "id": "477782fc-ce86-409c-9191-fceef5f1676c",
   "metadata": {},
   "outputs": [
    {
     "name": "stdout",
     "output_type": "stream",
     "text": [
      "1\n",
      "(451313080118390996, 84, 89) Martin Luther King Sr.\n",
      "(451313080118390996, 470, 475) Martin Luther King Jr. Day\n",
      "(451313080118390996, 537, 542) Martin Luther King Jr. Memorial\n",
      "(451313080118390996, 0, 4) Martin Luther King Jr.\n",
      "(451313080118390996, 129, 133) Southern Christian Leadership Conference\n",
      "(451313080118390996, 248, 252) Director J. Edgar Hoover\n",
      "(451313080118390996, 6, 9) Michael King Jr.\n",
      "(451313080118390996, 326, 329) Nobel Peace Prize\n",
      "(451313080118390996, 423, 426) James Earl Ray\n",
      "(451313080118390996, 464, 467) Congressional Gold Medal\n"
     ]
    }
   ],
   "source": [
    "matcher = Matcher(nlp.vocab)  # cria uma instancia do Matcher usando o vocabulario do modelo nlp\n",
    "pattern = [{\"POS\":\"PROPN\", \"OP\": \"+\"}]  # define um padrao para capturar substantivos proprios que aparecem uma ou mais vezes\n",
    "matcher.add(\"PROPER_NOUN\", [pattern], greedy=\"LONGEST\")  # adiciona o padrão ao matcher para que ele reconheça substantivos proprios\n",
    "doc = nlp(text) \n",
    "matches = matcher(doc)  # aplica o matcher no documento doc, encontrando as ocorrencias que correspondem ao padrao\n",
    "print(len(matcher))  # exibe o número de padroes no matcher, neste caso o 1\n",
    "for match in matches[:10]:  # Itera sobre os primeiros 10 matches encontrados\n",
    "    print(match, doc[match[1]: match[2]])  # Exibe o match e o texto correspondente no documento (substantivo proprio)\n"
   ]
  },
  {
   "cell_type": "code",
   "execution_count": 15,
   "id": "43e2f461-df3e-4339-b8a4-c4fbc480a408",
   "metadata": {},
   "outputs": [
    {
     "name": "stdout",
     "output_type": "stream",
     "text": [
      "1\n",
      "(451313080118390996, 0, 1) Martin\n",
      "(451313080118390996, 0, 2) Martin Luther\n",
      "(451313080118390996, 0, 3) Martin Luther King\n",
      "(451313080118390996, 0, 4) Martin Luther King Jr.\n",
      "(451313080118390996, 1, 2) Luther\n",
      "(451313080118390996, 1, 3) Luther King\n",
      "(451313080118390996, 1, 4) Luther King Jr.\n",
      "(451313080118390996, 2, 3) King\n",
      "(451313080118390996, 2, 4) King Jr.\n",
      "(451313080118390996, 3, 4) Jr.\n"
     ]
    }
   ],
   "source": [
    "matcher = Matcher(nlp.vocab)  # cria uma instancia do Matcher usando o vocabulario do modelo nlp\n",
    "pattern = [{\"POS\":\"PROPN\", \"OP\": \"+\"}]  # define um padrao para capturar substantivos proprios que aparecem uma ou mais vezes\n",
    "matcher.add(\"PROPER_NOUN\", [pattern])  # adiciona o padrão ao matcher para que ele reconheça substantivos proprios\n",
    "doc = nlp(text) \n",
    "matches = matcher(doc)  # aplica o matcher no documento doc, encontrando as ocorrencias que correspondem ao padrao\n",
    "matches.sort(key = lambda x: x[1]) #ordenar a lista de matches baseada no segundo valor de cada tupla\n",
    "print(len(matcher))  # exibe o número de padroes no matcher, neste caso o 1\n",
    "for match in matches[:10]:  # Itera sobre os primeiros 10 matches encontrados\n",
    "    print(match, doc[match[1]: match[2]])  # Exibe o match e o texto correspondente no documento (substantivo proprio)\n"
   ]
  },
  {
   "cell_type": "code",
   "execution_count": 16,
   "id": "cba1a35d-efce-42d4-a79f-76bffa08c31e",
   "metadata": {},
   "outputs": [
    {
     "name": "stdout",
     "output_type": "stream",
     "text": [
      "1\n",
      "(451313080118390996, 50, 52) King advanced\n",
      "(451313080118390996, 90, 92) King participated\n",
      "(451313080118390996, 114, 116) King led\n",
      "(451313080118390996, 168, 170) King helped\n",
      "(451313080118390996, 248, 253) Director J. Edgar Hoover considered\n",
      "(451313080118390996, 249, 253) J. Edgar Hoover considered\n",
      "(451313080118390996, 250, 253) Edgar Hoover considered\n",
      "(451313080118390996, 251, 253) Hoover considered\n",
      "(451313080118390996, 323, 325) King won\n",
      "(451313080118390996, 486, 489) United States beginning\n"
     ]
    }
   ],
   "source": [
    "matcher = Matcher(nlp.vocab)  # cria uma instancia do Matcher usando o vocabulario do modelo nlp\n",
    "pattern = [{\"POS\":\"PROPN\", \"OP\": \"+\"}, {\"POS\": \"VERB\"}]  # define um padrao para capturar substantivos proprios e verbos que aparecem uma ou mais vezes\n",
    "matcher.add(\"PROPER_NOUN\", [pattern])  # adiciona o padrão ao matcher para que ele reconheça substantivos proprios\n",
    "doc = nlp(text) \n",
    "matches = matcher(doc)  # aplica o matcher no documento doc, encontrando as ocorrencias que correspondem ao padrao\n",
    "matches.sort(key = lambda x: x[1]) #ordenar a lista de matches baseada no segundo valor de cada tupla\n",
    "print(len(matcher))  # exibe o número de padroes no matcher, neste caso o 1\n",
    "for match in matches[:10]:  # Itera sobre os primeiros 10 matches encontrados\n",
    "    print(match, doc[match[1]: match[2]])  # Exibe o match e o texto correspondente no documento (substantivo proprio)\n"
   ]
  },
  {
   "cell_type": "code",
   "execution_count": 17,
   "id": "bf113159-9b12-4d0d-8d6b-cc09733020d2",
   "metadata": {},
   "outputs": [],
   "source": [
    "import json #abrindo arquivo json\n",
    "with open(\"alice.json\", \"r\") as f:\n",
    "    data = json.load(f)"
   ]
  },
  {
   "cell_type": "code",
   "execution_count": 20,
   "id": "651acc17-0727-4cc3-a860-474294859abf",
   "metadata": {},
   "outputs": [
    {
     "name": "stdout",
     "output_type": "stream",
     "text": [
      "Alice was beginning to get very tired of sitting by her sister on the bank, and of having nothing to do: once or twice she had peeped into the book her sister was reading, but it had no pictures or conversations in it, `and what is the use of a book,' thought Alice `without pictures or conversation?'\n"
     ]
    }
   ],
   "source": [
    "text = data[0][2][0] #pegando uma parte expecifica do texto\n",
    "print(text)"
   ]
  },
  {
   "cell_type": "code",
   "execution_count": 21,
   "id": "629536ad-e997-4dc9-9499-709364536cea",
   "metadata": {},
   "outputs": [
    {
     "name": "stdout",
     "output_type": "stream",
     "text": [
      "Alice was beginning to get very tired of sitting by her sister on the bank, and of having nothing to do: once or twice she had peeped into the book her sister was reading, but it had no pictures or conversations in it, 'and what is the use of a book,' thought Alice 'without pictures or conversation?'\n"
     ]
    }
   ],
   "source": [
    "text = text.replace(\"`\",\"'\") #substituindo pontuacao\n",
    "print(text)"
   ]
  },
  {
   "cell_type": "code",
   "execution_count": 26,
   "id": "20eccd67-09fa-4240-9860-ab012876cd32",
   "metadata": {},
   "outputs": [
    {
     "name": "stdout",
     "output_type": "stream",
     "text": [
      "1\n",
      "(3232560085755078826, 47, 58) 'and what is the use of a book,'\n",
      "(3232560085755078826, 57, 61) ' thought Alice '\n",
      "(3232560085755078826, 60, 67) 'without pictures or conversation?'\n"
     ]
    }
   ],
   "source": [
    "matcher = Matcher(nlp.vocab) \n",
    "pattern = [{\"ORTH\":\"'\"},  #qualquer coisa q comece com aspas\n",
    "           {\"IS_ALPHA\":True, \"OP\": \"+\"}, #serie de caracteres alfabetico\n",
    "           {\"IS_PUNCT\":True,\"OP\":\"*\"}, #tem uma pontuacao como virgula\n",
    "           {\"ORTH\":\"'\"} #e fecha as aspas\n",
    "          ] \n",
    "matcher.add(\"PROPER_NOUNS\", [pattern])  \n",
    "doc = nlp(text) \n",
    "matches = matcher(doc)  # aplica o matcher no documento doc, encontrando as ocorrencias que correspondem ao padrao\n",
    "matches.sort(key = lambda x: x[1]) #ordenar a lista de matches baseada no segundo valor de cada tupla\n",
    "print(len(matcher))  # exibe o número de padroes no matcher, neste caso o 1\n",
    "for match in matches[:10]:  # Itera sobre os primeiros 10 matches encontrados\n",
    "    print(match, doc[match[1]: match[2]])  # Exibe o match e o texto correspondente no documento (substantivo proprio)\n"
   ]
  },
  {
   "cell_type": "code",
   "execution_count": 30,
   "id": "bd308f76-3520-453e-a734-62b69d29048e",
   "metadata": {},
   "outputs": [
    {
     "name": "stdout",
     "output_type": "stream",
     "text": [
      "1\n",
      "(3232560085755078826, 47, 67) 'and what is the use of a book,' thought Alice 'without pictures or conversation?'\n"
     ]
    }
   ],
   "source": [
    "speak_lemmas = [\"think\", \"say\"] #lista lemmas relacionadas a fala\n",
    "matcher = Matcher(nlp.vocab) \n",
    "pattern = [{\"ORTH\":\"'\"},  #qualquer coisa q comece com aspas\n",
    "           {\"IS_ALPHA\":True, \"OP\": \"+\"}, #serie de caracteres alfabetico\n",
    "           {\"IS_PUNCT\":True,\"OP\":\"*\"}, #tem uma pontuacao como virgula\n",
    "           {\"ORTH\":\"'\"}, #e fecha as aspas\n",
    "           {\"POS\": \"VERB\", \"LEMMA\":{\"IN\":speak_lemmas}}, #um verbo cujo lema esta na lista de lemmas\n",
    "           {\"POS\": \"PROPN\",\"OP\":\"+\"}, #mostra quem e a pessoa por tras da frase\n",
    "           {\"ORTH\":\"'\"},  #copiar o q foi feito anterioemnte para extrair com sucesso toda a citacao\n",
    "           {\"IS_ALPHA\":True, \"OP\": \"+\"}, \n",
    "           {\"IS_PUNCT\":True,\"OP\":\"*\"}, \n",
    "           {\"ORTH\":\"'\"}\n",
    "          ] \n",
    "matcher.add(\"PROPER_NOUNS\", [pattern])  \n",
    "doc = nlp(text) \n",
    "matches = matcher(doc)  # aplica o matcher no documento doc, encontrando as ocorrencias que correspondem ao padrao\n",
    "matches.sort(key = lambda x: x[1]) #ordenar a lista de matches baseada no segundo valor de cada tupla\n",
    "print(len(matcher))  # exibe o número de padroes no matcher, neste caso o 1\n",
    "for match in matches[:10]:  # Itera sobre os primeiros 10 matches encontrados\n",
    "    print(match, doc[match[1]: match[2]])  # Exibe o match e o texto correspondente no documento (substantivo proprio)\n"
   ]
  },
  {
   "cell_type": "code",
   "execution_count": 34,
   "id": "781729d0-c8a6-456b-9cfe-298d3e734f6c",
   "metadata": {},
   "outputs": [
    {
     "name": "stdout",
     "output_type": "stream",
     "text": [
      "1\n",
      "(3232560085755078826, 47, 67) 'and what is the use of a book,' thought Alice 'without pictures or conversation?'\n",
      "0\n",
      "0\n",
      "0\n",
      "0\n",
      "0\n",
      "0\n",
      "0\n",
      "0\n",
      "0\n",
      "0\n",
      "0\n",
      "0\n",
      "0\n",
      "0\n",
      "0\n",
      "0\n"
     ]
    }
   ],
   "source": [
    "for text in data[0][2]:\n",
    "    text = text.replace(\"`\",\"'\") #substituindo pontuacao\n",
    "    doc = nlp(text) \n",
    "    matches = matcher(doc)  # aplica o matcher no documento doc, encontrando as ocorrencias que correspondem ao padrao\n",
    "    print(len(matches)) #nao ha nenhum exemplo de aspas depois do primeiro capitulo\n",
    "    matches.sort(key = lambda x: x[1]) #ordenar a lista de matches baseada no segundo valor de cada tupla\n",
    "    for match in matches[:10]:  # Itera sobre os primeiros 10 matches encontrados\n",
    "        print(match, doc[match[1]: match[2]])  # Exibe o match e o texto correspondente no documento (substantivo proprio)\n"
   ]
  },
  {
   "cell_type": "code",
   "execution_count": 35,
   "id": "b4087b9c-8d0e-42af-8c4c-de2acb3b4324",
   "metadata": {},
   "outputs": [
    {
     "name": "stdout",
     "output_type": "stream",
     "text": [
      "0\n",
      "1\n",
      "(3232560085755078826, 0, 7) 'This is a test.'\n",
      "1\n",
      "(3232560085755078826, 0, 5) 'John speaks.'\n"
     ]
    }
   ],
   "source": [
    "matcher = Matcher(nlp.vocab) #inicializa o Matcher com o vocabulario do modelo\n",
    "\n",
    "# define os padroes que o Matcher vai procurar\n",
    "pattern1 = [{'ORTH': \"'\"}, {'IS_ALPHA': True, \"OP\": \"+\"}, {'IS_PUNCT': True, \"OP\": \"*\"}, {'ORTH': \"'\"}]\n",
    "pattern2 = [{'ORTH': \"'\"}, {'IS_ALPHA': True, \"OP\": \"+\"}, {'IS_PUNCT': True, \"OP\": \"*\"}, {'ORTH': \"'\"}]\n",
    "pattern3 = [{\"POS\": \"PROPN\", \"OP\": \"+\"}, {\"POS\": \"VERB\", \"LEMMA\": {\"IN\": [\"speak\", \"talk\"]}}, {'ORTH': \"'\"}]\n",
    "\n",
    "matcher.add(\"PROPER_NOUNS\", [pattern1, pattern2, pattern3], greedy='LONGEST') # adiciona os padroes ao Matcher\n",
    "\n",
    "data = [\n",
    "    [\"Exemplo de texto\", \"Outro texto\", [\"'Hello, world!'\", \"'This is a test.'\", \"'John speaks.'\"]]\n",
    "]\n",
    "\n",
    "# Itera sobre os textos e aplica o Matcher\n",
    "for text in data[0][2]:\n",
    "    text = text.replace('\"', \"'\") # substitui aspas duplas por aspas simples \n",
    "    doc = nlp(text)# processa o texto com o modelo de linguagem\n",
    "    matches = matcher(doc)# aplica o Matcher ao documento\n",
    "    matches.sort(key=lambda x: x[1])# ordena as correspondências pelo inicio do match\n",
    "    print(len(matches))# exibe o nemero de correspondencias encontradas\n",
    "    for match in matches[:10]: #exibe as primeiras 10 correspondencias\n",
    "        print(match, doc[match[1]:match[2]])"
   ]
  },
  {
   "cell_type": "code",
   "execution_count": null,
   "id": "d1317972-b795-44a9-90b1-5ab32651af04",
   "metadata": {},
   "outputs": [],
   "source": []
  }
 ],
 "metadata": {
  "kernelspec": {
   "display_name": "Python 3 (ipykernel)",
   "language": "python",
   "name": "python3"
  },
  "language_info": {
   "codemirror_mode": {
    "name": "ipython",
    "version": 3
   },
   "file_extension": ".py",
   "mimetype": "text/x-python",
   "name": "python",
   "nbconvert_exporter": "python",
   "pygments_lexer": "ipython3",
   "version": "3.12.4"
  }
 },
 "nbformat": 4,
 "nbformat_minor": 5
}
