{
 "cells": [
  {
   "cell_type": "code",
   "execution_count": 1,
   "id": "f28564b3-65a5-45e0-bfe6-15701497a076",
   "metadata": {},
   "outputs": [],
   "source": [
    "import spacy\n"
   ]
  },
  {
   "cell_type": "code",
   "execution_count": 3,
   "id": "5138a2c7-efaf-4be2-a1db-6730bad3fc55",
   "metadata": {},
   "outputs": [
    {
     "name": "stdout",
     "output_type": "stream",
     "text": [
      "Defaulting to user installation because normal site-packages is not writeable\n",
      "Collecting en-core-web-md==3.8.0\n",
      "  Downloading https://github.com/explosion/spacy-models/releases/download/en_core_web_md-3.8.0/en_core_web_md-3.8.0-py3-none-any.whl (33.5 MB)\n",
      "     ---------------------------------------- 0.0/33.5 MB ? eta -:--:--\n",
      "     --------------------------------------- 0.0/33.5 MB 330.3 kB/s eta 0:01:42\n",
      "     --------------------------------------- 0.1/33.5 MB 787.7 kB/s eta 0:00:43\n",
      "      --------------------------------------- 0.4/33.5 MB 3.0 MB/s eta 0:00:12\n",
      "     - -------------------------------------- 0.9/33.5 MB 4.9 MB/s eta 0:00:07\n",
      "     - -------------------------------------- 1.5/33.5 MB 6.3 MB/s eta 0:00:06\n",
      "     -- ------------------------------------- 2.1/33.5 MB 7.4 MB/s eta 0:00:05\n",
      "     --- ------------------------------------ 2.8/33.5 MB 8.4 MB/s eta 0:00:04\n",
      "     ---- ----------------------------------- 3.5/33.5 MB 9.4 MB/s eta 0:00:04\n",
      "     ----- ---------------------------------- 4.4/33.5 MB 10.3 MB/s eta 0:00:03\n",
      "     ------ --------------------------------- 5.3/33.5 MB 11.2 MB/s eta 0:00:03\n",
      "     ------- -------------------------------- 6.3/33.5 MB 12.2 MB/s eta 0:00:03\n",
      "     -------- ------------------------------- 7.4/33.5 MB 13.1 MB/s eta 0:00:02\n",
      "     ---------- ----------------------------- 8.6/33.5 MB 14.1 MB/s eta 0:00:02\n",
      "     ----------- --------------------------- 10.0/33.5 MB 15.2 MB/s eta 0:00:02\n",
      "     ------------ -------------------------- 10.5/33.5 MB 18.7 MB/s eta 0:00:02\n",
      "     ------------ -------------------------- 10.5/33.5 MB 18.7 MB/s eta 0:00:02\n",
      "     ------------- ------------------------- 12.0/33.5 MB 18.7 MB/s eta 0:00:02\n",
      "     --------------- ----------------------- 13.7/33.5 MB 21.1 MB/s eta 0:00:01\n",
      "     ------------------ -------------------- 15.6/33.5 MB 24.2 MB/s eta 0:00:01\n",
      "     -------------------- ------------------ 17.6/33.5 MB 27.3 MB/s eta 0:00:01\n",
      "     ----------------------- --------------- 19.9/33.5 MB 29.7 MB/s eta 0:00:01\n",
      "     ------------------------ -------------- 21.0/33.5 MB 40.9 MB/s eta 0:00:01\n",
      "     ------------------------ -------------- 21.0/33.5 MB 40.9 MB/s eta 0:00:01\n",
      "     -------------------------- ------------ 22.5/33.5 MB 31.2 MB/s eta 0:00:01\n",
      "     ----------------------------- --------- 25.4/33.5 MB 34.4 MB/s eta 0:00:01\n",
      "     --------------------------------- ----- 28.4/33.5 MB 38.6 MB/s eta 0:00:01\n",
      "     ------------------------------------ -- 31.5/33.5 MB 65.2 MB/s eta 0:00:01\n",
      "     ------------------------------------ -- 31.5/33.5 MB 65.2 MB/s eta 0:00:01\n",
      "     ------------------------------------- - 32.2/33.5 MB 43.7 MB/s eta 0:00:01\n",
      "     --------------------------------------  33.5/33.5 MB 40.9 MB/s eta 0:00:01\n",
      "     --------------------------------------- 33.5/33.5 MB 32.8 MB/s eta 0:00:00\n",
      "Installing collected packages: en-core-web-md\n",
      "Successfully installed en-core-web-md-3.8.0\n",
      "\u001b[38;5;2m[+] Download and installation successful\u001b[0m\n",
      "You can now load the package via spacy.load('en_core_web_md')\n"
     ]
    }
   ],
   "source": [
    "!python -m spacy download en_core_web_md"
   ]
  },
  {
   "cell_type": "code",
   "execution_count": 4,
   "id": "1806cb3e-41c2-4e4b-bfa9-ebb17682834c",
   "metadata": {},
   "outputs": [],
   "source": [
    "nlp = spacy.load(\"en_core_web_md\") "
   ]
  },
  {
   "cell_type": "code",
   "execution_count": 5,
   "id": "6468783c-e472-4985-9af7-156593c3853e",
   "metadata": {},
   "outputs": [],
   "source": [
    "with open(\"wiki_us.txt\") as f:\n",
    "    text = f.read()"
   ]
  },
  {
   "cell_type": "code",
   "execution_count": 7,
   "id": "586dd58b-14eb-4a48-9cd7-62e4a71f389b",
   "metadata": {},
   "outputs": [
    {
     "name": "stdout",
     "output_type": "stream",
     "text": [
      "The United States of America (U.S.A. or USA), commonly known as the United States (U.S. or US) or America, is a country primarily located in North America.\n"
     ]
    }
   ],
   "source": [
    "doc = nlp(text)\n",
    "sentence1 = list(doc.sents)[0]\n",
    "print(sentence1)"
   ]
  },
  {
   "cell_type": "code",
   "execution_count": 13,
   "id": "1d9a6597-c238-4be0-b816-885f493d7a0f",
   "metadata": {},
   "outputs": [
    {
     "name": "stdout",
     "output_type": "stream",
     "text": [
      "['anti-poverty', 'SLUMS', 'inner-city', 'Socioeconomic', 'INTERSECT', 'Divides', 'handicaps', 'dropout', 'drop-out', 'Crime-Ridden']\n"
     ]
    }
   ],
   "source": [
    "import numpy as np #este bloco de codigo pega as palavras mais semelahntes\n",
    "your_word = \"country\" #deifne a palavra de entrada\n",
    "ms = nlp.vocab.vectors.most_similar(\n",
    "    np.asarray([nlp.vocab.vectors[nlp.vocab.strings[your_word]]]), n=10) #encontra as palavras mais selemhantes\n",
    "words = [nlp.vocab.strings[w]for w in ms[0][0]]\n",
    "distances = ms[2]\n",
    "print(words)"
   ]
  },
  {
   "cell_type": "code",
   "execution_count": 20,
   "id": "a44a0b19-6c9a-4746-a62f-c85bf75af977",
   "metadata": {},
   "outputs": [
    {
     "name": "stdout",
     "output_type": "stream",
     "text": [
      "I like salty fries and hamburgues. <-> Fast food eastes very good. 0.7702385721402136\n"
     ]
    }
   ],
   "source": [
    "doc1 = nlp(\"I like salty fries and hamburgues.\")  #processa a primeira frase\n",
    "doc2 = nlp(\"Fast food eastes very good.\")  # processa a segunda frase \n",
    "print(doc1, \"<->\", doc2, doc1.similarity(doc2)) # Exibe as duas frases e calcula a similaridade entre elas"
   ]
  },
  {
   "cell_type": "code",
   "execution_count": 21,
   "id": "28381668-0f9b-4c59-8e60-9636f78cc3de",
   "metadata": {},
   "outputs": [
    {
     "name": "stdout",
     "output_type": "stream",
     "text": [
      "I like salty fries and hamburgues. <-> The Cristiano Ronaldo is the best player. 0.5655980384476121\n"
     ]
    }
   ],
   "source": [
    "doc3 = nlp(\"The Cristiano Ronaldo is the best player.\") #processa a terceira frase\n",
    "print(doc1, \"<->\", doc3, doc1.similarity(doc3)) # Exibe as duas frases e calcula a similaridade entre elas"
   ]
  },
  {
   "cell_type": "code",
   "execution_count": 22,
   "id": "1e2b128e-e6af-423c-ac0d-9a7820a73b88",
   "metadata": {},
   "outputs": [
    {
     "name": "stdout",
     "output_type": "stream",
     "text": [
      "I like playing video games. <-> I like playing soccer. 0.948816379541094\n"
     ]
    }
   ],
   "source": [
    "doc4 = nlp(\"I like playing video games.\") #processa a terceira frase\n",
    "doc5 = nlp(\"I like playing soccer.\") #processa a terceira frase\n",
    "print(doc4, \"<->\", doc5, doc4.similarity(doc5)) # Exibe as duas frases e calcula a similaridade entre elas"
   ]
  },
  {
   "cell_type": "code",
   "execution_count": 23,
   "id": "f066df0e-a881-454e-a4bf-06e4e221a027",
   "metadata": {},
   "outputs": [
    {
     "name": "stdout",
     "output_type": "stream",
     "text": [
      "I like playing video games. <-> I like playing voleiball. 0.9735632606804766\n"
     ]
    }
   ],
   "source": [
    "doc6 = nlp(\"I like playing voleiball.\") #processa a terceira frase\n",
    "print(doc4, \"<->\", doc6, doc4.similarity(doc6)) # Exibe as duas frases e calcula a similaridade entre elas"
   ]
  },
  {
   "cell_type": "code",
   "execution_count": 28,
   "id": "12c9a2da-a34c-4ef4-b490-ad8d2ff54763",
   "metadata": {},
   "outputs": [
    {
     "name": "stdout",
     "output_type": "stream",
     "text": [
      "salty fries <-> hamburgues 0.0\n"
     ]
    },
    {
     "name": "stderr",
     "output_type": "stream",
     "text": [
      "C:\\Users\\Higor\\AppData\\Local\\Temp\\ipykernel_21416\\542521117.py:5: UserWarning: [W008] Evaluating Span.similarity based on empty vectors.\n",
      "  print(french_fries.text, \"<->\", burgers.text, french_fries.similarity(burgers))\n"
     ]
    }
   ],
   "source": [
    "french_fries = doc1[2:4]  # salty fries\n",
    "burgers = doc1[5]  # hamburgers\n",
    "# exibe os tokens e calcula a similaridade entre eles\n",
    "print(french_fries.text, \"<->\", burgers.text, french_fries.similarity(burgers))"
   ]
  },
  {
   "cell_type": "code",
   "execution_count": null,
   "id": "0157bbbc-c931-4ebf-b2b1-7c4996044052",
   "metadata": {},
   "outputs": [],
   "source": []
  }
 ],
 "metadata": {
  "kernelspec": {
   "display_name": "Python 3 (ipykernel)",
   "language": "python",
   "name": "python3"
  },
  "language_info": {
   "codemirror_mode": {
    "name": "ipython",
    "version": 3
   },
   "file_extension": ".py",
   "mimetype": "text/x-python",
   "name": "python",
   "nbconvert_exporter": "python",
   "pygments_lexer": "ipython3",
   "version": "3.12.4"
  }
 },
 "nbformat": 4,
 "nbformat_minor": 5
}
